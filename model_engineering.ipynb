{
  "cells": [
    {
      "cell_type": "markdown",
      "metadata": {
        "id": "fyNOmz95B5D4"
      },
      "source": [
        "# Credit Card Routing for Online Purchases via Predictive Modelling:"
      ]
    },
    {
      "cell_type": "markdown",
      "metadata": {
        "id": "x6vUIFo-QJdp"
      },
      "source": [
        "Credit Card Routing for Online Purchase via Predictive Modelling\" means using machine learning models to predict the most suitable Payment Service Provider (PSP) for a given online credit card transaction based on various input features such as transaction amount, country, PSP, card type, and 3D security. The idea is to improve the efficiency and accuracy of credit card routing, which involves directing a transaction to the most appropriate PSP to minimize transaction failure and maximize profit for the payment processing company"
      ]
    },
    {
      "cell_type": "markdown",
      "metadata": {
        "id": "hjVQacRHEQXA"
      },
      "source": [
        "## Import Libaries"
      ]
    },
    {
      "cell_type": "code",
      "execution_count": 34,
      "metadata": {
        "id": "DUhsuI42BlN-"
      },
      "outputs": [],
      "source": [
        "from datetime import datetime         # Import the datetime module from Python standard library\n",
        "from IPython.display import display   # Import the display function from IPython.display module\n",
        "from datetime import timedelta        # Import the timedelta function from datetime module\n",
        "import seaborn as sns                 # Import the Seaborn library for data visualization\n",
        "import numpy as np                    # Import the NumPy library for numerical computing\n",
        "import pandas as pd                   # Import the Pandas library for data analysis\n",
        "import matplotlib.pyplot as plt       # Import the pyplot module from Matplotlib library for plotting\n",
        "import psutil                         # Import the psutil library for system monitoring"
      ]
    },
    {
      "cell_type": "code",
      "source": [
        "import warnings\n",
        "\n",
        "# Filter out warnings\n",
        "warnings.filterwarnings(\"ignore\")\n",
        "\n",
        "# Your code here\n",
        "\n",
        "# Reset warnings filter\n",
        "warnings.filterwarnings(\"default\")\n"
      ],
      "metadata": {
        "id": "uJz-Uw_MHh1u"
      },
      "execution_count": 68,
      "outputs": []
    },
    {
      "cell_type": "markdown",
      "metadata": {
        "id": "_KQGP8xiEUyl"
      },
      "source": [
        "## Read the raw data"
      ]
    },
    {
      "cell_type": "code",
      "execution_count": 35,
      "metadata": {
        "id": "7w5ajaFjETyq"
      },
      "outputs": [],
      "source": [
        "df = pd.read_excel(r\"/content/PSP_Jan_Feb_2019.xlsx\")"
      ]
    },
    {
      "cell_type": "code",
      "execution_count": 36,
      "metadata": {
        "colab": {
          "base_uri": "https://localhost:8080/",
          "height": 206
        },
        "id": "H0Z1XR00Eb12",
        "outputId": "e2e58819-ee7a-42f2-9da3-ae6508d9920d"
      },
      "outputs": [
        {
          "output_type": "execute_result",
          "data": {
            "text/plain": [
              "   Unnamed: 0                tmsp  country  amount  success         PSP  \\\n",
              "0           0 2019-01-01 00:01:11  Germany      89        0     UK_Card   \n",
              "1           1 2019-01-01 00:01:17  Germany      89        1     UK_Card   \n",
              "2           2 2019-01-01 00:02:49  Germany     238        0     UK_Card   \n",
              "3           3 2019-01-01 00:03:13  Germany     238        1     UK_Card   \n",
              "4           4 2019-01-01 00:04:33  Austria     124        0  Simplecard   \n",
              "\n",
              "   3D_secured    card  \n",
              "0           0    Visa  \n",
              "1           0    Visa  \n",
              "2           1  Diners  \n",
              "3           1  Diners  \n",
              "4           0  Diners  "
            ],
            "text/html": [
              "\n",
              "  <div id=\"df-ee5673c6-bdd5-4982-a597-ac717cbe79fd\">\n",
              "    <div class=\"colab-df-container\">\n",
              "      <div>\n",
              "<style scoped>\n",
              "    .dataframe tbody tr th:only-of-type {\n",
              "        vertical-align: middle;\n",
              "    }\n",
              "\n",
              "    .dataframe tbody tr th {\n",
              "        vertical-align: top;\n",
              "    }\n",
              "\n",
              "    .dataframe thead th {\n",
              "        text-align: right;\n",
              "    }\n",
              "</style>\n",
              "<table border=\"1\" class=\"dataframe\">\n",
              "  <thead>\n",
              "    <tr style=\"text-align: right;\">\n",
              "      <th></th>\n",
              "      <th>Unnamed: 0</th>\n",
              "      <th>tmsp</th>\n",
              "      <th>country</th>\n",
              "      <th>amount</th>\n",
              "      <th>success</th>\n",
              "      <th>PSP</th>\n",
              "      <th>3D_secured</th>\n",
              "      <th>card</th>\n",
              "    </tr>\n",
              "  </thead>\n",
              "  <tbody>\n",
              "    <tr>\n",
              "      <th>0</th>\n",
              "      <td>0</td>\n",
              "      <td>2019-01-01 00:01:11</td>\n",
              "      <td>Germany</td>\n",
              "      <td>89</td>\n",
              "      <td>0</td>\n",
              "      <td>UK_Card</td>\n",
              "      <td>0</td>\n",
              "      <td>Visa</td>\n",
              "    </tr>\n",
              "    <tr>\n",
              "      <th>1</th>\n",
              "      <td>1</td>\n",
              "      <td>2019-01-01 00:01:17</td>\n",
              "      <td>Germany</td>\n",
              "      <td>89</td>\n",
              "      <td>1</td>\n",
              "      <td>UK_Card</td>\n",
              "      <td>0</td>\n",
              "      <td>Visa</td>\n",
              "    </tr>\n",
              "    <tr>\n",
              "      <th>2</th>\n",
              "      <td>2</td>\n",
              "      <td>2019-01-01 00:02:49</td>\n",
              "      <td>Germany</td>\n",
              "      <td>238</td>\n",
              "      <td>0</td>\n",
              "      <td>UK_Card</td>\n",
              "      <td>1</td>\n",
              "      <td>Diners</td>\n",
              "    </tr>\n",
              "    <tr>\n",
              "      <th>3</th>\n",
              "      <td>3</td>\n",
              "      <td>2019-01-01 00:03:13</td>\n",
              "      <td>Germany</td>\n",
              "      <td>238</td>\n",
              "      <td>1</td>\n",
              "      <td>UK_Card</td>\n",
              "      <td>1</td>\n",
              "      <td>Diners</td>\n",
              "    </tr>\n",
              "    <tr>\n",
              "      <th>4</th>\n",
              "      <td>4</td>\n",
              "      <td>2019-01-01 00:04:33</td>\n",
              "      <td>Austria</td>\n",
              "      <td>124</td>\n",
              "      <td>0</td>\n",
              "      <td>Simplecard</td>\n",
              "      <td>0</td>\n",
              "      <td>Diners</td>\n",
              "    </tr>\n",
              "  </tbody>\n",
              "</table>\n",
              "</div>\n",
              "      <button class=\"colab-df-convert\" onclick=\"convertToInteractive('df-ee5673c6-bdd5-4982-a597-ac717cbe79fd')\"\n",
              "              title=\"Convert this dataframe to an interactive table.\"\n",
              "              style=\"display:none;\">\n",
              "        \n",
              "  <svg xmlns=\"http://www.w3.org/2000/svg\" height=\"24px\"viewBox=\"0 0 24 24\"\n",
              "       width=\"24px\">\n",
              "    <path d=\"M0 0h24v24H0V0z\" fill=\"none\"/>\n",
              "    <path d=\"M18.56 5.44l.94 2.06.94-2.06 2.06-.94-2.06-.94-.94-2.06-.94 2.06-2.06.94zm-11 1L8.5 8.5l.94-2.06 2.06-.94-2.06-.94L8.5 2.5l-.94 2.06-2.06.94zm10 10l.94 2.06.94-2.06 2.06-.94-2.06-.94-.94-2.06-.94 2.06-2.06.94z\"/><path d=\"M17.41 7.96l-1.37-1.37c-.4-.4-.92-.59-1.43-.59-.52 0-1.04.2-1.43.59L10.3 9.45l-7.72 7.72c-.78.78-.78 2.05 0 2.83L4 21.41c.39.39.9.59 1.41.59.51 0 1.02-.2 1.41-.59l7.78-7.78 2.81-2.81c.8-.78.8-2.07 0-2.86zM5.41 20L4 18.59l7.72-7.72 1.47 1.35L5.41 20z\"/>\n",
              "  </svg>\n",
              "      </button>\n",
              "      \n",
              "  <style>\n",
              "    .colab-df-container {\n",
              "      display:flex;\n",
              "      flex-wrap:wrap;\n",
              "      gap: 12px;\n",
              "    }\n",
              "\n",
              "    .colab-df-convert {\n",
              "      background-color: #E8F0FE;\n",
              "      border: none;\n",
              "      border-radius: 50%;\n",
              "      cursor: pointer;\n",
              "      display: none;\n",
              "      fill: #1967D2;\n",
              "      height: 32px;\n",
              "      padding: 0 0 0 0;\n",
              "      width: 32px;\n",
              "    }\n",
              "\n",
              "    .colab-df-convert:hover {\n",
              "      background-color: #E2EBFA;\n",
              "      box-shadow: 0px 1px 2px rgba(60, 64, 67, 0.3), 0px 1px 3px 1px rgba(60, 64, 67, 0.15);\n",
              "      fill: #174EA6;\n",
              "    }\n",
              "\n",
              "    [theme=dark] .colab-df-convert {\n",
              "      background-color: #3B4455;\n",
              "      fill: #D2E3FC;\n",
              "    }\n",
              "\n",
              "    [theme=dark] .colab-df-convert:hover {\n",
              "      background-color: #434B5C;\n",
              "      box-shadow: 0px 1px 3px 1px rgba(0, 0, 0, 0.15);\n",
              "      filter: drop-shadow(0px 1px 2px rgba(0, 0, 0, 0.3));\n",
              "      fill: #FFFFFF;\n",
              "    }\n",
              "  </style>\n",
              "\n",
              "      <script>\n",
              "        const buttonEl =\n",
              "          document.querySelector('#df-ee5673c6-bdd5-4982-a597-ac717cbe79fd button.colab-df-convert');\n",
              "        buttonEl.style.display =\n",
              "          google.colab.kernel.accessAllowed ? 'block' : 'none';\n",
              "\n",
              "        async function convertToInteractive(key) {\n",
              "          const element = document.querySelector('#df-ee5673c6-bdd5-4982-a597-ac717cbe79fd');\n",
              "          const dataTable =\n",
              "            await google.colab.kernel.invokeFunction('convertToInteractive',\n",
              "                                                     [key], {});\n",
              "          if (!dataTable) return;\n",
              "\n",
              "          const docLinkHtml = 'Like what you see? Visit the ' +\n",
              "            '<a target=\"_blank\" href=https://colab.research.google.com/notebooks/data_table.ipynb>data table notebook</a>'\n",
              "            + ' to learn more about interactive tables.';\n",
              "          element.innerHTML = '';\n",
              "          dataTable['output_type'] = 'display_data';\n",
              "          await google.colab.output.renderOutput(dataTable, element);\n",
              "          const docLink = document.createElement('div');\n",
              "          docLink.innerHTML = docLinkHtml;\n",
              "          element.appendChild(docLink);\n",
              "        }\n",
              "      </script>\n",
              "    </div>\n",
              "  </div>\n",
              "  "
            ]
          },
          "metadata": {},
          "execution_count": 36
        }
      ],
      "source": [
        "df.head()"
      ]
    },
    {
      "cell_type": "code",
      "execution_count": 37,
      "metadata": {
        "colab": {
          "base_uri": "https://localhost:8080/"
        },
        "id": "8h_HKZSLyepL",
        "outputId": "eb2f1d0e-8147-4f2b-e7c8-59e0db94396c"
      },
      "outputs": [
        {
          "output_type": "execute_result",
          "data": {
            "text/plain": [
              "(50410, 8)"
            ]
          },
          "metadata": {},
          "execution_count": 37
        }
      ],
      "source": [
        "# check the shape of the dataframe\n",
        "df.shape"
      ]
    },
    {
      "cell_type": "code",
      "execution_count": 38,
      "metadata": {
        "colab": {
          "base_uri": "https://localhost:8080/"
        },
        "id": "DqoaGaIpz4dK",
        "outputId": "f523bc46-01a4-4df1-cb7d-3b00656e81b0"
      },
      "outputs": [
        {
          "output_type": "stream",
          "name": "stdout",
          "text": [
            "<class 'pandas.core.frame.DataFrame'>\n",
            "RangeIndex: 50410 entries, 0 to 50409\n",
            "Data columns (total 8 columns):\n",
            " #   Column      Non-Null Count  Dtype         \n",
            "---  ------      --------------  -----         \n",
            " 0   Unnamed: 0  50410 non-null  int64         \n",
            " 1   tmsp        50410 non-null  datetime64[ns]\n",
            " 2   country     50410 non-null  object        \n",
            " 3   amount      50410 non-null  int64         \n",
            " 4   success     50410 non-null  int64         \n",
            " 5   PSP         50410 non-null  object        \n",
            " 6   3D_secured  50410 non-null  int64         \n",
            " 7   card        50410 non-null  object        \n",
            "dtypes: datetime64[ns](1), int64(4), object(3)\n",
            "memory usage: 3.1+ MB\n"
          ]
        }
      ],
      "source": [
        "# get the info about dataframe\n",
        "df.info()"
      ]
    },
    {
      "cell_type": "code",
      "execution_count": 39,
      "metadata": {
        "colab": {
          "base_uri": "https://localhost:8080/"
        },
        "id": "xwr6-WANGJX5",
        "outputId": "5b196c69-f571-4325-ad34-b94c74dfb967"
      },
      "outputs": [
        {
          "output_type": "execute_result",
          "data": {
            "text/plain": [
              "Unnamed: 0    0\n",
              "tmsp          0\n",
              "country       0\n",
              "amount        0\n",
              "success       0\n",
              "PSP           0\n",
              "3D_secured    0\n",
              "card          0\n",
              "dtype: int64"
            ]
          },
          "metadata": {},
          "execution_count": 39
        }
      ],
      "source": [
        "# check if there are any null values\n",
        "df.isna().sum()"
      ]
    },
    {
      "cell_type": "code",
      "execution_count": 40,
      "metadata": {
        "colab": {
          "base_uri": "https://localhost:8080/"
        },
        "id": "J3RcsDzAauxN",
        "outputId": "f48c3fb1-aa84-49fb-fb5e-af448de3f048"
      },
      "outputs": [
        {
          "output_type": "execute_result",
          "data": {
            "text/plain": [
              "Unnamed: 0             int64\n",
              "tmsp          datetime64[ns]\n",
              "country               object\n",
              "amount                 int64\n",
              "success                int64\n",
              "PSP                   object\n",
              "3D_secured             int64\n",
              "card                  object\n",
              "dtype: object"
            ]
          },
          "metadata": {},
          "execution_count": 40
        }
      ],
      "source": [
        "# Verifying that the data types of the columns align with our expectations.\n",
        "df.dtypes"
      ]
    },
    {
      "cell_type": "code",
      "execution_count": 41,
      "metadata": {
        "colab": {
          "base_uri": "https://localhost:8080/",
          "height": 206
        },
        "id": "mNR9UpD_4HVt",
        "outputId": "e7d78da0-0bae-41c1-88e7-6b9192b264bc"
      },
      "outputs": [
        {
          "output_type": "execute_result",
          "data": {
            "text/plain": [
              "   Unnamed: 0                tmsp  country  amount  success         PSP  \\\n",
              "0           0 2019-01-01 00:01:11  Germany      89        0     UK_Card   \n",
              "1           1 2019-01-01 00:01:17  Germany      89        1     UK_Card   \n",
              "2           2 2019-01-01 00:02:49  Germany     238        0     UK_Card   \n",
              "3           3 2019-01-01 00:03:13  Germany     238        1     UK_Card   \n",
              "4           4 2019-01-01 00:04:33  Austria     124        0  Simplecard   \n",
              "\n",
              "   3D_secured    card  \n",
              "0           0    Visa  \n",
              "1           0    Visa  \n",
              "2           1  Diners  \n",
              "3           1  Diners  \n",
              "4           0  Diners  "
            ],
            "text/html": [
              "\n",
              "  <div id=\"df-8ca29512-781b-4de2-9786-3a5df93ff226\">\n",
              "    <div class=\"colab-df-container\">\n",
              "      <div>\n",
              "<style scoped>\n",
              "    .dataframe tbody tr th:only-of-type {\n",
              "        vertical-align: middle;\n",
              "    }\n",
              "\n",
              "    .dataframe tbody tr th {\n",
              "        vertical-align: top;\n",
              "    }\n",
              "\n",
              "    .dataframe thead th {\n",
              "        text-align: right;\n",
              "    }\n",
              "</style>\n",
              "<table border=\"1\" class=\"dataframe\">\n",
              "  <thead>\n",
              "    <tr style=\"text-align: right;\">\n",
              "      <th></th>\n",
              "      <th>Unnamed: 0</th>\n",
              "      <th>tmsp</th>\n",
              "      <th>country</th>\n",
              "      <th>amount</th>\n",
              "      <th>success</th>\n",
              "      <th>PSP</th>\n",
              "      <th>3D_secured</th>\n",
              "      <th>card</th>\n",
              "    </tr>\n",
              "  </thead>\n",
              "  <tbody>\n",
              "    <tr>\n",
              "      <th>0</th>\n",
              "      <td>0</td>\n",
              "      <td>2019-01-01 00:01:11</td>\n",
              "      <td>Germany</td>\n",
              "      <td>89</td>\n",
              "      <td>0</td>\n",
              "      <td>UK_Card</td>\n",
              "      <td>0</td>\n",
              "      <td>Visa</td>\n",
              "    </tr>\n",
              "    <tr>\n",
              "      <th>1</th>\n",
              "      <td>1</td>\n",
              "      <td>2019-01-01 00:01:17</td>\n",
              "      <td>Germany</td>\n",
              "      <td>89</td>\n",
              "      <td>1</td>\n",
              "      <td>UK_Card</td>\n",
              "      <td>0</td>\n",
              "      <td>Visa</td>\n",
              "    </tr>\n",
              "    <tr>\n",
              "      <th>2</th>\n",
              "      <td>2</td>\n",
              "      <td>2019-01-01 00:02:49</td>\n",
              "      <td>Germany</td>\n",
              "      <td>238</td>\n",
              "      <td>0</td>\n",
              "      <td>UK_Card</td>\n",
              "      <td>1</td>\n",
              "      <td>Diners</td>\n",
              "    </tr>\n",
              "    <tr>\n",
              "      <th>3</th>\n",
              "      <td>3</td>\n",
              "      <td>2019-01-01 00:03:13</td>\n",
              "      <td>Germany</td>\n",
              "      <td>238</td>\n",
              "      <td>1</td>\n",
              "      <td>UK_Card</td>\n",
              "      <td>1</td>\n",
              "      <td>Diners</td>\n",
              "    </tr>\n",
              "    <tr>\n",
              "      <th>4</th>\n",
              "      <td>4</td>\n",
              "      <td>2019-01-01 00:04:33</td>\n",
              "      <td>Austria</td>\n",
              "      <td>124</td>\n",
              "      <td>0</td>\n",
              "      <td>Simplecard</td>\n",
              "      <td>0</td>\n",
              "      <td>Diners</td>\n",
              "    </tr>\n",
              "  </tbody>\n",
              "</table>\n",
              "</div>\n",
              "      <button class=\"colab-df-convert\" onclick=\"convertToInteractive('df-8ca29512-781b-4de2-9786-3a5df93ff226')\"\n",
              "              title=\"Convert this dataframe to an interactive table.\"\n",
              "              style=\"display:none;\">\n",
              "        \n",
              "  <svg xmlns=\"http://www.w3.org/2000/svg\" height=\"24px\"viewBox=\"0 0 24 24\"\n",
              "       width=\"24px\">\n",
              "    <path d=\"M0 0h24v24H0V0z\" fill=\"none\"/>\n",
              "    <path d=\"M18.56 5.44l.94 2.06.94-2.06 2.06-.94-2.06-.94-.94-2.06-.94 2.06-2.06.94zm-11 1L8.5 8.5l.94-2.06 2.06-.94-2.06-.94L8.5 2.5l-.94 2.06-2.06.94zm10 10l.94 2.06.94-2.06 2.06-.94-2.06-.94-.94-2.06-.94 2.06-2.06.94z\"/><path d=\"M17.41 7.96l-1.37-1.37c-.4-.4-.92-.59-1.43-.59-.52 0-1.04.2-1.43.59L10.3 9.45l-7.72 7.72c-.78.78-.78 2.05 0 2.83L4 21.41c.39.39.9.59 1.41.59.51 0 1.02-.2 1.41-.59l7.78-7.78 2.81-2.81c.8-.78.8-2.07 0-2.86zM5.41 20L4 18.59l7.72-7.72 1.47 1.35L5.41 20z\"/>\n",
              "  </svg>\n",
              "      </button>\n",
              "      \n",
              "  <style>\n",
              "    .colab-df-container {\n",
              "      display:flex;\n",
              "      flex-wrap:wrap;\n",
              "      gap: 12px;\n",
              "    }\n",
              "\n",
              "    .colab-df-convert {\n",
              "      background-color: #E8F0FE;\n",
              "      border: none;\n",
              "      border-radius: 50%;\n",
              "      cursor: pointer;\n",
              "      display: none;\n",
              "      fill: #1967D2;\n",
              "      height: 32px;\n",
              "      padding: 0 0 0 0;\n",
              "      width: 32px;\n",
              "    }\n",
              "\n",
              "    .colab-df-convert:hover {\n",
              "      background-color: #E2EBFA;\n",
              "      box-shadow: 0px 1px 2px rgba(60, 64, 67, 0.3), 0px 1px 3px 1px rgba(60, 64, 67, 0.15);\n",
              "      fill: #174EA6;\n",
              "    }\n",
              "\n",
              "    [theme=dark] .colab-df-convert {\n",
              "      background-color: #3B4455;\n",
              "      fill: #D2E3FC;\n",
              "    }\n",
              "\n",
              "    [theme=dark] .colab-df-convert:hover {\n",
              "      background-color: #434B5C;\n",
              "      box-shadow: 0px 1px 3px 1px rgba(0, 0, 0, 0.15);\n",
              "      filter: drop-shadow(0px 1px 2px rgba(0, 0, 0, 0.3));\n",
              "      fill: #FFFFFF;\n",
              "    }\n",
              "  </style>\n",
              "\n",
              "      <script>\n",
              "        const buttonEl =\n",
              "          document.querySelector('#df-8ca29512-781b-4de2-9786-3a5df93ff226 button.colab-df-convert');\n",
              "        buttonEl.style.display =\n",
              "          google.colab.kernel.accessAllowed ? 'block' : 'none';\n",
              "\n",
              "        async function convertToInteractive(key) {\n",
              "          const element = document.querySelector('#df-8ca29512-781b-4de2-9786-3a5df93ff226');\n",
              "          const dataTable =\n",
              "            await google.colab.kernel.invokeFunction('convertToInteractive',\n",
              "                                                     [key], {});\n",
              "          if (!dataTable) return;\n",
              "\n",
              "          const docLinkHtml = 'Like what you see? Visit the ' +\n",
              "            '<a target=\"_blank\" href=https://colab.research.google.com/notebooks/data_table.ipynb>data table notebook</a>'\n",
              "            + ' to learn more about interactive tables.';\n",
              "          element.innerHTML = '';\n",
              "          dataTable['output_type'] = 'display_data';\n",
              "          await google.colab.output.renderOutput(dataTable, element);\n",
              "          const docLink = document.createElement('div');\n",
              "          docLink.innerHTML = docLinkHtml;\n",
              "          element.appendChild(docLink);\n",
              "        }\n",
              "      </script>\n",
              "    </div>\n",
              "  </div>\n",
              "  "
            ]
          },
          "metadata": {},
          "execution_count": 41
        }
      ],
      "source": [
        "df.head()"
      ]
    },
    {
      "cell_type": "code",
      "execution_count": 42,
      "metadata": {
        "colab": {
          "base_uri": "https://localhost:8080/",
          "height": 175
        },
        "id": "848rOFkg0oBX",
        "outputId": "971d049b-75dd-4a5d-d94e-9bbe16e53452"
      },
      "outputs": [
        {
          "output_type": "execute_result",
          "data": {
            "text/plain": [
              "              count          mean           std  min       25%      50%  \\\n",
              "Unnamed: 0  50410.0  25204.500000  14552.257872  0.0  12602.25  25204.5   \n",
              "amount      50410.0    202.395715     96.274730  6.0    133.00    201.0   \n",
              "success     50410.0      0.202896      0.402160  0.0      0.00      0.0   \n",
              "3D_secured  50410.0      0.238266      0.426027  0.0      0.00      0.0   \n",
              "\n",
              "                 75%      max  \n",
              "Unnamed: 0  37806.75  50409.0  \n",
              "amount        269.00    630.0  \n",
              "success         0.00      1.0  \n",
              "3D_secured      0.00      1.0  "
            ],
            "text/html": [
              "\n",
              "  <div id=\"df-705a0fd2-c483-4151-96b6-f66b470692d5\">\n",
              "    <div class=\"colab-df-container\">\n",
              "      <div>\n",
              "<style scoped>\n",
              "    .dataframe tbody tr th:only-of-type {\n",
              "        vertical-align: middle;\n",
              "    }\n",
              "\n",
              "    .dataframe tbody tr th {\n",
              "        vertical-align: top;\n",
              "    }\n",
              "\n",
              "    .dataframe thead th {\n",
              "        text-align: right;\n",
              "    }\n",
              "</style>\n",
              "<table border=\"1\" class=\"dataframe\">\n",
              "  <thead>\n",
              "    <tr style=\"text-align: right;\">\n",
              "      <th></th>\n",
              "      <th>count</th>\n",
              "      <th>mean</th>\n",
              "      <th>std</th>\n",
              "      <th>min</th>\n",
              "      <th>25%</th>\n",
              "      <th>50%</th>\n",
              "      <th>75%</th>\n",
              "      <th>max</th>\n",
              "    </tr>\n",
              "  </thead>\n",
              "  <tbody>\n",
              "    <tr>\n",
              "      <th>Unnamed: 0</th>\n",
              "      <td>50410.0</td>\n",
              "      <td>25204.500000</td>\n",
              "      <td>14552.257872</td>\n",
              "      <td>0.0</td>\n",
              "      <td>12602.25</td>\n",
              "      <td>25204.5</td>\n",
              "      <td>37806.75</td>\n",
              "      <td>50409.0</td>\n",
              "    </tr>\n",
              "    <tr>\n",
              "      <th>amount</th>\n",
              "      <td>50410.0</td>\n",
              "      <td>202.395715</td>\n",
              "      <td>96.274730</td>\n",
              "      <td>6.0</td>\n",
              "      <td>133.00</td>\n",
              "      <td>201.0</td>\n",
              "      <td>269.00</td>\n",
              "      <td>630.0</td>\n",
              "    </tr>\n",
              "    <tr>\n",
              "      <th>success</th>\n",
              "      <td>50410.0</td>\n",
              "      <td>0.202896</td>\n",
              "      <td>0.402160</td>\n",
              "      <td>0.0</td>\n",
              "      <td>0.00</td>\n",
              "      <td>0.0</td>\n",
              "      <td>0.00</td>\n",
              "      <td>1.0</td>\n",
              "    </tr>\n",
              "    <tr>\n",
              "      <th>3D_secured</th>\n",
              "      <td>50410.0</td>\n",
              "      <td>0.238266</td>\n",
              "      <td>0.426027</td>\n",
              "      <td>0.0</td>\n",
              "      <td>0.00</td>\n",
              "      <td>0.0</td>\n",
              "      <td>0.00</td>\n",
              "      <td>1.0</td>\n",
              "    </tr>\n",
              "  </tbody>\n",
              "</table>\n",
              "</div>\n",
              "      <button class=\"colab-df-convert\" onclick=\"convertToInteractive('df-705a0fd2-c483-4151-96b6-f66b470692d5')\"\n",
              "              title=\"Convert this dataframe to an interactive table.\"\n",
              "              style=\"display:none;\">\n",
              "        \n",
              "  <svg xmlns=\"http://www.w3.org/2000/svg\" height=\"24px\"viewBox=\"0 0 24 24\"\n",
              "       width=\"24px\">\n",
              "    <path d=\"M0 0h24v24H0V0z\" fill=\"none\"/>\n",
              "    <path d=\"M18.56 5.44l.94 2.06.94-2.06 2.06-.94-2.06-.94-.94-2.06-.94 2.06-2.06.94zm-11 1L8.5 8.5l.94-2.06 2.06-.94-2.06-.94L8.5 2.5l-.94 2.06-2.06.94zm10 10l.94 2.06.94-2.06 2.06-.94-2.06-.94-.94-2.06-.94 2.06-2.06.94z\"/><path d=\"M17.41 7.96l-1.37-1.37c-.4-.4-.92-.59-1.43-.59-.52 0-1.04.2-1.43.59L10.3 9.45l-7.72 7.72c-.78.78-.78 2.05 0 2.83L4 21.41c.39.39.9.59 1.41.59.51 0 1.02-.2 1.41-.59l7.78-7.78 2.81-2.81c.8-.78.8-2.07 0-2.86zM5.41 20L4 18.59l7.72-7.72 1.47 1.35L5.41 20z\"/>\n",
              "  </svg>\n",
              "      </button>\n",
              "      \n",
              "  <style>\n",
              "    .colab-df-container {\n",
              "      display:flex;\n",
              "      flex-wrap:wrap;\n",
              "      gap: 12px;\n",
              "    }\n",
              "\n",
              "    .colab-df-convert {\n",
              "      background-color: #E8F0FE;\n",
              "      border: none;\n",
              "      border-radius: 50%;\n",
              "      cursor: pointer;\n",
              "      display: none;\n",
              "      fill: #1967D2;\n",
              "      height: 32px;\n",
              "      padding: 0 0 0 0;\n",
              "      width: 32px;\n",
              "    }\n",
              "\n",
              "    .colab-df-convert:hover {\n",
              "      background-color: #E2EBFA;\n",
              "      box-shadow: 0px 1px 2px rgba(60, 64, 67, 0.3), 0px 1px 3px 1px rgba(60, 64, 67, 0.15);\n",
              "      fill: #174EA6;\n",
              "    }\n",
              "\n",
              "    [theme=dark] .colab-df-convert {\n",
              "      background-color: #3B4455;\n",
              "      fill: #D2E3FC;\n",
              "    }\n",
              "\n",
              "    [theme=dark] .colab-df-convert:hover {\n",
              "      background-color: #434B5C;\n",
              "      box-shadow: 0px 1px 3px 1px rgba(0, 0, 0, 0.15);\n",
              "      filter: drop-shadow(0px 1px 2px rgba(0, 0, 0, 0.3));\n",
              "      fill: #FFFFFF;\n",
              "    }\n",
              "  </style>\n",
              "\n",
              "      <script>\n",
              "        const buttonEl =\n",
              "          document.querySelector('#df-705a0fd2-c483-4151-96b6-f66b470692d5 button.colab-df-convert');\n",
              "        buttonEl.style.display =\n",
              "          google.colab.kernel.accessAllowed ? 'block' : 'none';\n",
              "\n",
              "        async function convertToInteractive(key) {\n",
              "          const element = document.querySelector('#df-705a0fd2-c483-4151-96b6-f66b470692d5');\n",
              "          const dataTable =\n",
              "            await google.colab.kernel.invokeFunction('convertToInteractive',\n",
              "                                                     [key], {});\n",
              "          if (!dataTable) return;\n",
              "\n",
              "          const docLinkHtml = 'Like what you see? Visit the ' +\n",
              "            '<a target=\"_blank\" href=https://colab.research.google.com/notebooks/data_table.ipynb>data table notebook</a>'\n",
              "            + ' to learn more about interactive tables.';\n",
              "          element.innerHTML = '';\n",
              "          dataTable['output_type'] = 'display_data';\n",
              "          await google.colab.output.renderOutput(dataTable, element);\n",
              "          const docLink = document.createElement('div');\n",
              "          docLink.innerHTML = docLinkHtml;\n",
              "          element.appendChild(docLink);\n",
              "        }\n",
              "      </script>\n",
              "    </div>\n",
              "  </div>\n",
              "  "
            ]
          },
          "metadata": {},
          "execution_count": 42
        }
      ],
      "source": [
        "# Eye balling the data\n",
        "df.describe().transpose()"
      ]
    },
    {
      "cell_type": "code",
      "execution_count": 43,
      "metadata": {
        "colab": {
          "base_uri": "https://localhost:8080/"
        },
        "id": "hcDSnJ2P1ORn",
        "outputId": "25e142b3-0fa3-4930-a428-565abe8516df"
      },
      "outputs": [
        {
          "output_type": "execute_result",
          "data": {
            "text/plain": [
              "Unnamed: 0    50410\n",
              "tmsp          50121\n",
              "country           3\n",
              "amount          517\n",
              "success           2\n",
              "PSP               4\n",
              "3D_secured        2\n",
              "card              3\n",
              "dtype: int64"
            ]
          },
          "metadata": {},
          "execution_count": 43
        }
      ],
      "source": [
        "#finding unique data\n",
        "df.apply(lambda x: len(x.unique()))"
      ]
    },
    {
      "cell_type": "code",
      "execution_count": 44,
      "metadata": {
        "colab": {
          "base_uri": "https://localhost:8080/",
          "height": 775
        },
        "id": "RP32FjuS1dyk",
        "outputId": "61352d34-20f8-434c-e227-503a6d6f5b9e"
      },
      "outputs": [
        {
          "output_type": "execute_result",
          "data": {
            "text/plain": [
              "<seaborn.axisgrid.PairGrid at 0x7f0c0f798ee0>"
            ]
          },
          "metadata": {},
          "execution_count": 44
        },
        {
          "output_type": "display_data",
          "data": {
            "text/plain": [
              "<Figure size 750x750 with 12 Axes>"
            ],
            "image/png": "[encoded data removed]"
          },
          "metadata": {}
        }
      ],
      "source": [
        "sns.pairplot(df.iloc[:,1:])"
      ]
    },
    {
      "cell_type": "code",
      "execution_count": 45,
      "metadata": {
        "colab": {
          "base_uri": "https://localhost:8080/"
        },
        "id": "7I2rLbfEbRKJ",
        "outputId": "6f3490b7-ee08-4077-ee64-ef195c9c8576"
      },
      "outputs": [
        {
          "output_type": "stream",
          "name": "stderr",
          "text": [
            "<ipython-input-45-0be87da11e7a>:2: FutureWarning: The default value of numeric_only in DataFrame.sum is deprecated. In a future version, it will default to False. In addition, specifying 'numeric_only=None' is deprecated. Select only valid columns or specify the value of numeric_only to silence this warning.\n",
            "  df[df['3D_secured']>=2].sum()\n"
          ]
        },
        {
          "output_type": "execute_result",
          "data": {
            "text/plain": [
              "Unnamed: 0    0.0\n",
              "country       0.0\n",
              "amount        0.0\n",
              "success       0.0\n",
              "PSP           0.0\n",
              "3D_secured    0.0\n",
              "card          0.0\n",
              "dtype: float64"
            ]
          },
          "metadata": {},
          "execution_count": 45
        }
      ],
      "source": [
        "# Verifying whether any logical errors exist, such as illogical values in particular columns.\n",
        "df[df['3D_secured']>=2].sum()"
      ]
    },
    {
      "cell_type": "code",
      "execution_count": 46,
      "metadata": {
        "colab": {
          "base_uri": "https://localhost:8080/",
          "height": 472
        },
        "id": "6OtqoPR87B-F",
        "outputId": "3c9a33d9-a19f-4d54-fadd-b07c7ac49638"
      },
      "outputs": [
        {
          "output_type": "display_data",
          "data": {
            "text/plain": [
              "<Figure size 640x480 with 1 Axes>"
            ],
            "image/png": "[encoded data removed]"
          },
          "metadata": {}
        }
      ],
      "source": [
        "# Plot the target column as a histogram\n",
        "plt.hist(df['success'])\n",
        "# Add labels and title to the plot\n",
        "plt.xlabel('Payment Success')\n",
        "plt.ylabel('Frequency')\n",
        "plt.title('Distribution of Target Column')\n",
        "\n",
        "# Show the plot\n",
        "plt.show()"
      ]
    },
    {
      "cell_type": "code",
      "execution_count": 47,
      "metadata": {
        "colab": {
          "base_uri": "https://localhost:8080/",
          "height": 472
        },
        "id": "y_g7qgvSQ7tr",
        "outputId": "c4ce080e-efb4-41e7-8fd8-17558f613136"
      },
      "outputs": [
        {
          "output_type": "display_data",
          "data": {
            "text/plain": [
              "<Figure size 640x480 with 1 Axes>"
            ],
            "image/png": "[encoded data removed]"
          },
          "metadata": {}
        }
      ],
      "source": [
        "# Plot the target column as a histogram\n",
        "plt.hist(df['PSP'])\n",
        "# Add labels and title to the plot\n",
        "plt.xlabel('PSP')\n",
        "plt.ylabel('Frequency')\n",
        "plt.title('Distribution of PSP Column')\n",
        "\n",
        "# Show the plot\n",
        "plt.show()"
      ]
    },
    {
      "cell_type": "code",
      "execution_count": 48,
      "metadata": {
        "colab": {
          "base_uri": "https://localhost:8080/",
          "height": 472
        },
        "id": "Az9JCXz4SVVG",
        "outputId": "11fe4c8d-6d5a-4179-e645-d29b28736f3a"
      },
      "outputs": [
        {
          "output_type": "display_data",
          "data": {
            "text/plain": [
              "<Figure size 640x480 with 1 Axes>"
            ],
            "image/png": "[encoded data removed]"
          },
          "metadata": {}
        }
      ],
      "source": [
        "# Plot the target column as a histogram\n",
        "plt.hist(df['card'])\n",
        "# Add labels and title to the plot\n",
        "plt.xlabel('card')\n",
        "plt.ylabel('Frequency')\n",
        "plt.title('Distribution of Card Column')\n",
        "\n",
        "# Show the plot\n",
        "plt.show()"
      ]
    },
    {
      "cell_type": "code",
      "execution_count": 49,
      "metadata": {
        "colab": {
          "base_uri": "https://localhost:8080/",
          "height": 631
        },
        "id": "aD8LG3kCcrVE",
        "outputId": "274a1e5a-d797-4dbd-8ccd-a5676c8d1c81"
      },
      "outputs": [
        {
          "output_type": "display_data",
          "data": {
            "text/plain": [
              "<Figure size 800x600 with 1 Axes>"
            ],
            "image/png": "[encoded data removed]"
          },
          "metadata": {}
        }
      ],
      "source": [
        "\n",
        "piv = pd.pivot_table(df, values='tmsp', index=['country'], aggfunc='count')\n",
        "colors = ['#ff9999','#66b3ff','#99ff99','#ffcc99','#b3b3b3']\n",
        "plot = piv.plot(kind='bar', y='tmsp', color=colors, figsize=(8, 6))\n",
        "plot.set_xlabel(\"Country\")\n",
        "plot.set_ylabel(\"Transaction count\")\n",
        "plot.set_title(\"Transaction count by country\")\n",
        "plt.show()"
      ]
    },
    {
      "cell_type": "code",
      "execution_count": 50,
      "metadata": {
        "colab": {
          "base_uri": "https://localhost:8080/"
        },
        "id": "pPlXwSQmNgiO",
        "outputId": "9368e293-8f57-4176-a182-ee69c4e199cb"
      },
      "outputs": [
        {
          "output_type": "execute_result",
          "data": {
            "text/plain": [
              "(50410, 8)"
            ]
          },
          "metadata": {},
          "execution_count": 50
        }
      ],
      "source": [
        "df.shape"
      ]
    },
    {
      "cell_type": "code",
      "execution_count": 51,
      "metadata": {
        "id": "2TMOIcDMewP1"
      },
      "outputs": [],
      "source": [
        "# Adding a new column to hold the attempt number\n",
        "df['attempt_number'] = 0\n",
        "\n",
        "# Calculating the attempt number for each try\n",
        "for index, row in df.iterrows():\n",
        "    if index > 0:\n",
        "        if ((row['tmsp'] >= (df.iat[index-1,1]- timedelta(minutes=1)))&(row['country'] == df.iat[index-1,2])&(row['amount'] == df.iat[index-1,3])):\n",
        "            df.iat[index,8] = df.iat[index-1,8]+1\n",
        "            df.at[index, 'attempt_number'] = df.at[index-1, 'attempt_number']+1\n"
      ]
    },
    {
      "cell_type": "code",
      "execution_count": 52,
      "metadata": {
        "colab": {
          "base_uri": "https://localhost:8080/",
          "height": 472
        },
        "id": "Qx0hyzru7LAg",
        "outputId": "847d8293-fb05-49de-9163-1edc211f4334"
      },
      "outputs": [
        {
          "output_type": "display_data",
          "data": {
            "text/plain": [
              "<Figure size 640x480 with 1 Axes>"
            ],
            "image/png": "[encoded data removed]"
          },
          "metadata": {}
        }
      ],
      "source": [
        "# Plot the Attempt column as a histogram\n",
        "plt.hist(df['attempt_number'])\n",
        "\n",
        "# Add labels and title to the plot\n",
        "plt.xlabel('Payment Attempts')\n",
        "plt.ylabel('Frequency')\n",
        "plt.title('Distribution of Attempt Column')\n",
        "\n",
        "# Show the plot\n",
        "plt.show()"
      ]
    },
    {
      "cell_type": "code",
      "execution_count": 53,
      "metadata": {
        "colab": {
          "base_uri": "https://localhost:8080/"
        },
        "id": "ltNjxVj833Nk",
        "outputId": "5ba6ac5e-3e41-4737-ac62-eb58c284aeb1"
      },
      "outputs": [
        {
          "output_type": "execute_result",
          "data": {
            "text/plain": [
              "(50410, 8)"
            ]
          },
          "metadata": {},
          "execution_count": 53
        }
      ],
      "source": [
        "# removing the unnamed column - which is not necessary\n",
        "df = df.drop(df.columns[df.columns.str.contains('unnamed', case=False)], axis=1)\n",
        "df.shape"
      ]
    },
    {
      "cell_type": "code",
      "execution_count": 54,
      "metadata": {
        "id": "9lKmbMm1Gru9"
      },
      "outputs": [],
      "source": [
        "# converting timestamp to the hours and minutes\n",
        "df['hour'] = df.tmsp.apply(lambda x: x.hour)\n",
        "df['minute'] = df.tmsp.apply(lambda x: x.minute)"
      ]
    },
    {
      "cell_type": "code",
      "execution_count": 55,
      "metadata": {
        "id": "xpULvyihH0Ra"
      },
      "outputs": [],
      "source": [
        "# drop the timestamp\n",
        "df = df.drop(columns=['tmsp'])"
      ]
    },
    {
      "cell_type": "code",
      "execution_count": 56,
      "metadata": {
        "colab": {
          "base_uri": "https://localhost:8080/",
          "height": 206
        },
        "id": "dozUmbUrhGdz",
        "outputId": "8de1cc01-b9d7-4a83-afad-529160a0fae4"
      },
      "outputs": [
        {
          "output_type": "execute_result",
          "data": {
            "text/plain": [
              "   country  amount  success         PSP  3D_secured    card  attempt_number  \\\n",
              "0  Germany      89        0     UK_Card           0    Visa               0   \n",
              "1  Germany      89        1     UK_Card           0    Visa               1   \n",
              "2  Germany     238        0     UK_Card           1  Diners               0   \n",
              "3  Germany     238        1     UK_Card           1  Diners               1   \n",
              "4  Austria     124        0  Simplecard           0  Diners               0   \n",
              "\n",
              "   hour  minute  \n",
              "0     0       1  \n",
              "1     0       1  \n",
              "2     0       2  \n",
              "3     0       3  \n",
              "4     0       4  "
            ],
            "text/html": [
              "\n",
              "  <div id=\"df-22dbef85-84c2-4b08-87a4-42ac786ea388\">\n",
              "    <div class=\"colab-df-container\">\n",
              "      <div>\n",
              "<style scoped>\n",
              "    .dataframe tbody tr th:only-of-type {\n",
              "        vertical-align: middle;\n",
              "    }\n",
              "\n",
              "    .dataframe tbody tr th {\n",
              "        vertical-align: top;\n",
              "    }\n",
              "\n",
              "    .dataframe thead th {\n",
              "        text-align: right;\n",
              "    }\n",
              "</style>\n",
              "<table border=\"1\" class=\"dataframe\">\n",
              "  <thead>\n",
              "    <tr style=\"text-align: right;\">\n",
              "      <th></th>\n",
              "      <th>country</th>\n",
              "      <th>amount</th>\n",
              "      <th>success</th>\n",
              "      <th>PSP</th>\n",
              "      <th>3D_secured</th>\n",
              "      <th>card</th>\n",
              "      <th>attempt_number</th>\n",
              "      <th>hour</th>\n",
              "      <th>minute</th>\n",
              "    </tr>\n",
              "  </thead>\n",
              "  <tbody>\n",
              "    <tr>\n",
              "      <th>0</th>\n",
              "      <td>Germany</td>\n",
              "      <td>89</td>\n",
              "      <td>0</td>\n",
              "      <td>UK_Card</td>\n",
              "      <td>0</td>\n",
              "      <td>Visa</td>\n",
              "      <td>0</td>\n",
              "      <td>0</td>\n",
              "      <td>1</td>\n",
              "    </tr>\n",
              "    <tr>\n",
              "      <th>1</th>\n",
              "      <td>Germany</td>\n",
              "      <td>89</td>\n",
              "      <td>1</td>\n",
              "      <td>UK_Card</td>\n",
              "      <td>0</td>\n",
              "      <td>Visa</td>\n",
              "      <td>1</td>\n",
              "      <td>0</td>\n",
              "      <td>1</td>\n",
              "    </tr>\n",
              "    <tr>\n",
              "      <th>2</th>\n",
              "      <td>Germany</td>\n",
              "      <td>238</td>\n",
              "      <td>0</td>\n",
              "      <td>UK_Card</td>\n",
              "      <td>1</td>\n",
              "      <td>Diners</td>\n",
              "      <td>0</td>\n",
              "      <td>0</td>\n",
              "      <td>2</td>\n",
              "    </tr>\n",
              "    <tr>\n",
              "      <th>3</th>\n",
              "      <td>Germany</td>\n",
              "      <td>238</td>\n",
              "      <td>1</td>\n",
              "      <td>UK_Card</td>\n",
              "      <td>1</td>\n",
              "      <td>Diners</td>\n",
              "      <td>1</td>\n",
              "      <td>0</td>\n",
              "      <td>3</td>\n",
              "    </tr>\n",
              "    <tr>\n",
              "      <th>4</th>\n",
              "      <td>Austria</td>\n",
              "      <td>124</td>\n",
              "      <td>0</td>\n",
              "      <td>Simplecard</td>\n",
              "      <td>0</td>\n",
              "      <td>Diners</td>\n",
              "      <td>0</td>\n",
              "      <td>0</td>\n",
              "      <td>4</td>\n",
              "    </tr>\n",
              "  </tbody>\n",
              "</table>\n",
              "</div>\n",
              "      <button class=\"colab-df-convert\" onclick=\"convertToInteractive('df-22dbef85-84c2-4b08-87a4-42ac786ea388')\"\n",
              "              title=\"Convert this dataframe to an interactive table.\"\n",
              "              style=\"display:none;\">\n",
              "        \n",
              "  <svg xmlns=\"http://www.w3.org/2000/svg\" height=\"24px\"viewBox=\"0 0 24 24\"\n",
              "       width=\"24px\">\n",
              "    <path d=\"M0 0h24v24H0V0z\" fill=\"none\"/>\n",
              "    <path d=\"M18.56 5.44l.94 2.06.94-2.06 2.06-.94-2.06-.94-.94-2.06-.94 2.06-2.06.94zm-11 1L8.5 8.5l.94-2.06 2.06-.94-2.06-.94L8.5 2.5l-.94 2.06-2.06.94zm10 10l.94 2.06.94-2.06 2.06-.94-2.06-.94-.94-2.06-.94 2.06-2.06.94z\"/><path d=\"M17.41 7.96l-1.37-1.37c-.4-.4-.92-.59-1.43-.59-.52 0-1.04.2-1.43.59L10.3 9.45l-7.72 7.72c-.78.78-.78 2.05 0 2.83L4 21.41c.39.39.9.59 1.41.59.51 0 1.02-.2 1.41-.59l7.78-7.78 2.81-2.81c.8-.78.8-2.07 0-2.86zM5.41 20L4 18.59l7.72-7.72 1.47 1.35L5.41 20z\"/>\n",
              "  </svg>\n",
              "      </button>\n",
              "      \n",
              "  <style>\n",
              "    .colab-df-container {\n",
              "      display:flex;\n",
              "      flex-wrap:wrap;\n",
              "      gap: 12px;\n",
              "    }\n",
              "\n",
              "    .colab-df-convert {\n",
              "      background-color: #E8F0FE;\n",
              "      border: none;\n",
              "      border-radius: 50%;\n",
              "      cursor: pointer;\n",
              "      display: none;\n",
              "      fill: #1967D2;\n",
              "      height: 32px;\n",
              "      padding: 0 0 0 0;\n",
              "      width: 32px;\n",
              "    }\n",
              "\n",
              "    .colab-df-convert:hover {\n",
              "      background-color: #E2EBFA;\n",
              "      box-shadow: 0px 1px 2px rgba(60, 64, 67, 0.3), 0px 1px 3px 1px rgba(60, 64, 67, 0.15);\n",
              "      fill: #174EA6;\n",
              "    }\n",
              "\n",
              "    [theme=dark] .colab-df-convert {\n",
              "      background-color: #3B4455;\n",
              "      fill: #D2E3FC;\n",
              "    }\n",
              "\n",
              "    [theme=dark] .colab-df-convert:hover {\n",
              "      background-color: #434B5C;\n",
              "      box-shadow: 0px 1px 3px 1px rgba(0, 0, 0, 0.15);\n",
              "      filter: drop-shadow(0px 1px 2px rgba(0, 0, 0, 0.3));\n",
              "      fill: #FFFFFF;\n",
              "    }\n",
              "  </style>\n",
              "\n",
              "      <script>\n",
              "        const buttonEl =\n",
              "          document.querySelector('#df-22dbef85-84c2-4b08-87a4-42ac786ea388 button.colab-df-convert');\n",
              "        buttonEl.style.display =\n",
              "          google.colab.kernel.accessAllowed ? 'block' : 'none';\n",
              "\n",
              "        async function convertToInteractive(key) {\n",
              "          const element = document.querySelector('#df-22dbef85-84c2-4b08-87a4-42ac786ea388');\n",
              "          const dataTable =\n",
              "            await google.colab.kernel.invokeFunction('convertToInteractive',\n",
              "                                                     [key], {});\n",
              "          if (!dataTable) return;\n",
              "\n",
              "          const docLinkHtml = 'Like what you see? Visit the ' +\n",
              "            '<a target=\"_blank\" href=https://colab.research.google.com/notebooks/data_table.ipynb>data table notebook</a>'\n",
              "            + ' to learn more about interactive tables.';\n",
              "          element.innerHTML = '';\n",
              "          dataTable['output_type'] = 'display_data';\n",
              "          await google.colab.output.renderOutput(dataTable, element);\n",
              "          const docLink = document.createElement('div');\n",
              "          docLink.innerHTML = docLinkHtml;\n",
              "          element.appendChild(docLink);\n",
              "        }\n",
              "      </script>\n",
              "    </div>\n",
              "  </div>\n",
              "  "
            ]
          },
          "metadata": {},
          "execution_count": 56
        }
      ],
      "source": [
        "# Once this is added, the raw data will appear as follows:\n",
        "df.head()"
      ]
    },
    {
      "cell_type": "code",
      "execution_count": 57,
      "metadata": {
        "colab": {
          "base_uri": "https://localhost:8080/",
          "height": 206
        },
        "id": "FGr-KmTDyK5t",
        "outputId": "ad8f399b-2593-4263-bf50-bd35b3467c82"
      },
      "outputs": [
        {
          "output_type": "execute_result",
          "data": {
            "text/plain": [
              "   country  amount  success         PSP  3D_secured    card  attempt_number  \\\n",
              "0  Germany      89        0     UK_Card           0    Visa               0   \n",
              "1  Germany      89        1     UK_Card           0    Visa               1   \n",
              "2  Germany     238        0     UK_Card           1  Diners               0   \n",
              "3  Germany     238        1     UK_Card           1  Diners               1   \n",
              "4  Austria     124        0  Simplecard           0  Diners               0   \n",
              "\n",
              "   hour  minute  \n",
              "0     0       1  \n",
              "1     0       1  \n",
              "2     0       2  \n",
              "3     0       3  \n",
              "4     0       4  "
            ],
            "text/html": [
              "\n",
              "  <div id=\"df-3430b2b9-2f7d-40e9-b20a-296fce997385\">\n",
              "    <div class=\"colab-df-container\">\n",
              "      <div>\n",
              "<style scoped>\n",
              "    .dataframe tbody tr th:only-of-type {\n",
              "        vertical-align: middle;\n",
              "    }\n",
              "\n",
              "    .dataframe tbody tr th {\n",
              "        vertical-align: top;\n",
              "    }\n",
              "\n",
              "    .dataframe thead th {\n",
              "        text-align: right;\n",
              "    }\n",
              "</style>\n",
              "<table border=\"1\" class=\"dataframe\">\n",
              "  <thead>\n",
              "    <tr style=\"text-align: right;\">\n",
              "      <th></th>\n",
              "      <th>country</th>\n",
              "      <th>amount</th>\n",
              "      <th>success</th>\n",
              "      <th>PSP</th>\n",
              "      <th>3D_secured</th>\n",
              "      <th>card</th>\n",
              "      <th>attempt_number</th>\n",
              "      <th>hour</th>\n",
              "      <th>minute</th>\n",
              "    </tr>\n",
              "  </thead>\n",
              "  <tbody>\n",
              "    <tr>\n",
              "      <th>0</th>\n",
              "      <td>Germany</td>\n",
              "      <td>89</td>\n",
              "      <td>0</td>\n",
              "      <td>UK_Card</td>\n",
              "      <td>0</td>\n",
              "      <td>Visa</td>\n",
              "      <td>0</td>\n",
              "      <td>0</td>\n",
              "      <td>1</td>\n",
              "    </tr>\n",
              "    <tr>\n",
              "      <th>1</th>\n",
              "      <td>Germany</td>\n",
              "      <td>89</td>\n",
              "      <td>1</td>\n",
              "      <td>UK_Card</td>\n",
              "      <td>0</td>\n",
              "      <td>Visa</td>\n",
              "      <td>1</td>\n",
              "      <td>0</td>\n",
              "      <td>1</td>\n",
              "    </tr>\n",
              "    <tr>\n",
              "      <th>2</th>\n",
              "      <td>Germany</td>\n",
              "      <td>238</td>\n",
              "      <td>0</td>\n",
              "      <td>UK_Card</td>\n",
              "      <td>1</td>\n",
              "      <td>Diners</td>\n",
              "      <td>0</td>\n",
              "      <td>0</td>\n",
              "      <td>2</td>\n",
              "    </tr>\n",
              "    <tr>\n",
              "      <th>3</th>\n",
              "      <td>Germany</td>\n",
              "      <td>238</td>\n",
              "      <td>1</td>\n",
              "      <td>UK_Card</td>\n",
              "      <td>1</td>\n",
              "      <td>Diners</td>\n",
              "      <td>1</td>\n",
              "      <td>0</td>\n",
              "      <td>3</td>\n",
              "    </tr>\n",
              "    <tr>\n",
              "      <th>4</th>\n",
              "      <td>Austria</td>\n",
              "      <td>124</td>\n",
              "      <td>0</td>\n",
              "      <td>Simplecard</td>\n",
              "      <td>0</td>\n",
              "      <td>Diners</td>\n",
              "      <td>0</td>\n",
              "      <td>0</td>\n",
              "      <td>4</td>\n",
              "    </tr>\n",
              "  </tbody>\n",
              "</table>\n",
              "</div>\n",
              "      <button class=\"colab-df-convert\" onclick=\"convertToInteractive('df-3430b2b9-2f7d-40e9-b20a-296fce997385')\"\n",
              "              title=\"Convert this dataframe to an interactive table.\"\n",
              "              style=\"display:none;\">\n",
              "        \n",
              "  <svg xmlns=\"http://www.w3.org/2000/svg\" height=\"24px\"viewBox=\"0 0 24 24\"\n",
              "       width=\"24px\">\n",
              "    <path d=\"M0 0h24v24H0V0z\" fill=\"none\"/>\n",
              "    <path d=\"M18.56 5.44l.94 2.06.94-2.06 2.06-.94-2.06-.94-.94-2.06-.94 2.06-2.06.94zm-11 1L8.5 8.5l.94-2.06 2.06-.94-2.06-.94L8.5 2.5l-.94 2.06-2.06.94zm10 10l.94 2.06.94-2.06 2.06-.94-2.06-.94-.94-2.06-.94 2.06-2.06.94z\"/><path d=\"M17.41 7.96l-1.37-1.37c-.4-.4-.92-.59-1.43-.59-.52 0-1.04.2-1.43.59L10.3 9.45l-7.72 7.72c-.78.78-.78 2.05 0 2.83L4 21.41c.39.39.9.59 1.41.59.51 0 1.02-.2 1.41-.59l7.78-7.78 2.81-2.81c.8-.78.8-2.07 0-2.86zM5.41 20L4 18.59l7.72-7.72 1.47 1.35L5.41 20z\"/>\n",
              "  </svg>\n",
              "      </button>\n",
              "      \n",
              "  <style>\n",
              "    .colab-df-container {\n",
              "      display:flex;\n",
              "      flex-wrap:wrap;\n",
              "      gap: 12px;\n",
              "    }\n",
              "\n",
              "    .colab-df-convert {\n",
              "      background-color: #E8F0FE;\n",
              "      border: none;\n",
              "      border-radius: 50%;\n",
              "      cursor: pointer;\n",
              "      display: none;\n",
              "      fill: #1967D2;\n",
              "      height: 32px;\n",
              "      padding: 0 0 0 0;\n",
              "      width: 32px;\n",
              "    }\n",
              "\n",
              "    .colab-df-convert:hover {\n",
              "      background-color: #E2EBFA;\n",
              "      box-shadow: 0px 1px 2px rgba(60, 64, 67, 0.3), 0px 1px 3px 1px rgba(60, 64, 67, 0.15);\n",
              "      fill: #174EA6;\n",
              "    }\n",
              "\n",
              "    [theme=dark] .colab-df-convert {\n",
              "      background-color: #3B4455;\n",
              "      fill: #D2E3FC;\n",
              "    }\n",
              "\n",
              "    [theme=dark] .colab-df-convert:hover {\n",
              "      background-color: #434B5C;\n",
              "      box-shadow: 0px 1px 3px 1px rgba(0, 0, 0, 0.15);\n",
              "      filter: drop-shadow(0px 1px 2px rgba(0, 0, 0, 0.3));\n",
              "      fill: #FFFFFF;\n",
              "    }\n",
              "  </style>\n",
              "\n",
              "      <script>\n",
              "        const buttonEl =\n",
              "          document.querySelector('#df-3430b2b9-2f7d-40e9-b20a-296fce997385 button.colab-df-convert');\n",
              "        buttonEl.style.display =\n",
              "          google.colab.kernel.accessAllowed ? 'block' : 'none';\n",
              "\n",
              "        async function convertToInteractive(key) {\n",
              "          const element = document.querySelector('#df-3430b2b9-2f7d-40e9-b20a-296fce997385');\n",
              "          const dataTable =\n",
              "            await google.colab.kernel.invokeFunction('convertToInteractive',\n",
              "                                                     [key], {});\n",
              "          if (!dataTable) return;\n",
              "\n",
              "          const docLinkHtml = 'Like what you see? Visit the ' +\n",
              "            '<a target=\"_blank\" href=https://colab.research.google.com/notebooks/data_table.ipynb>data table notebook</a>'\n",
              "            + ' to learn more about interactive tables.';\n",
              "          element.innerHTML = '';\n",
              "          dataTable['output_type'] = 'display_data';\n",
              "          await google.colab.output.renderOutput(dataTable, element);\n",
              "          const docLink = document.createElement('div');\n",
              "          docLink.innerHTML = docLinkHtml;\n",
              "          element.appendChild(docLink);\n",
              "        }\n",
              "      </script>\n",
              "    </div>\n",
              "  </div>\n",
              "  "
            ]
          },
          "metadata": {},
          "execution_count": 57
        }
      ],
      "source": [
        "# copy the dataframe - so that we don't alter main dataframe\n",
        "temp_df = df.copy()\n",
        "temp_df.head()"
      ]
    },
    {
      "cell_type": "code",
      "execution_count": 58,
      "metadata": {
        "colab": {
          "base_uri": "https://localhost:8080/",
          "height": 206
        },
        "id": "M6XNtT58yymn",
        "outputId": "51f5d68d-c093-43e1-d5ef-2b70e05ec59a"
      },
      "outputs": [
        {
          "output_type": "execute_result",
          "data": {
            "text/plain": [
              "   amount  success         PSP  3D_secured  attempt_number  hour  minute  \\\n",
              "0      89        0     UK_Card           0               0     0       1   \n",
              "1      89        1     UK_Card           0               1     0       1   \n",
              "2     238        0     UK_Card           1               0     0       2   \n",
              "3     238        1     UK_Card           1               1     0       3   \n",
              "4     124        0  Simplecard           0               0     0       4   \n",
              "\n",
              "   country_Austria  country_Germany  country_Switzerland  card_Diners  \\\n",
              "0                0                1                    0            0   \n",
              "1                0                1                    0            0   \n",
              "2                0                1                    0            1   \n",
              "3                0                1                    0            1   \n",
              "4                1                0                    0            1   \n",
              "\n",
              "   card_Master  card_Visa  \n",
              "0            0          1  \n",
              "1            0          1  \n",
              "2            0          0  \n",
              "3            0          0  \n",
              "4            0          0  "
            ],
            "text/html": [
              "\n",
              "  <div id=\"df-9f6c16a3-d23f-4eff-90ba-8f809c9d6c03\">\n",
              "    <div class=\"colab-df-container\">\n",
              "      <div>\n",
              "<style scoped>\n",
              "    .dataframe tbody tr th:only-of-type {\n",
              "        vertical-align: middle;\n",
              "    }\n",
              "\n",
              "    .dataframe tbody tr th {\n",
              "        vertical-align: top;\n",
              "    }\n",
              "\n",
              "    .dataframe thead th {\n",
              "        text-align: right;\n",
              "    }\n",
              "</style>\n",
              "<table border=\"1\" class=\"dataframe\">\n",
              "  <thead>\n",
              "    <tr style=\"text-align: right;\">\n",
              "      <th></th>\n",
              "      <th>amount</th>\n",
              "      <th>success</th>\n",
              "      <th>PSP</th>\n",
              "      <th>3D_secured</th>\n",
              "      <th>attempt_number</th>\n",
              "      <th>hour</th>\n",
              "      <th>minute</th>\n",
              "      <th>country_Austria</th>\n",
              "      <th>country_Germany</th>\n",
              "      <th>country_Switzerland</th>\n",
              "      <th>card_Diners</th>\n",
              "      <th>card_Master</th>\n",
              "      <th>card_Visa</th>\n",
              "    </tr>\n",
              "  </thead>\n",
              "  <tbody>\n",
              "    <tr>\n",
              "      <th>0</th>\n",
              "      <td>89</td>\n",
              "      <td>0</td>\n",
              "      <td>UK_Card</td>\n",
              "      <td>0</td>\n",
              "      <td>0</td>\n",
              "      <td>0</td>\n",
              "      <td>1</td>\n",
              "      <td>0</td>\n",
              "      <td>1</td>\n",
              "      <td>0</td>\n",
              "      <td>0</td>\n",
              "      <td>0</td>\n",
              "      <td>1</td>\n",
              "    </tr>\n",
              "    <tr>\n",
              "      <th>1</th>\n",
              "      <td>89</td>\n",
              "      <td>1</td>\n",
              "      <td>UK_Card</td>\n",
              "      <td>0</td>\n",
              "      <td>1</td>\n",
              "      <td>0</td>\n",
              "      <td>1</td>\n",
              "      <td>0</td>\n",
              "      <td>1</td>\n",
              "      <td>0</td>\n",
              "      <td>0</td>\n",
              "      <td>0</td>\n",
              "      <td>1</td>\n",
              "    </tr>\n",
              "    <tr>\n",
              "      <th>2</th>\n",
              "      <td>238</td>\n",
              "      <td>0</td>\n",
              "      <td>UK_Card</td>\n",
              "      <td>1</td>\n",
              "      <td>0</td>\n",
              "      <td>0</td>\n",
              "      <td>2</td>\n",
              "      <td>0</td>\n",
              "      <td>1</td>\n",
              "      <td>0</td>\n",
              "      <td>1</td>\n",
              "      <td>0</td>\n",
              "      <td>0</td>\n",
              "    </tr>\n",
              "    <tr>\n",
              "      <th>3</th>\n",
              "      <td>238</td>\n",
              "      <td>1</td>\n",
              "      <td>UK_Card</td>\n",
              "      <td>1</td>\n",
              "      <td>1</td>\n",
              "      <td>0</td>\n",
              "      <td>3</td>\n",
              "      <td>0</td>\n",
              "      <td>1</td>\n",
              "      <td>0</td>\n",
              "      <td>1</td>\n",
              "      <td>0</td>\n",
              "      <td>0</td>\n",
              "    </tr>\n",
              "    <tr>\n",
              "      <th>4</th>\n",
              "      <td>124</td>\n",
              "      <td>0</td>\n",
              "      <td>Simplecard</td>\n",
              "      <td>0</td>\n",
              "      <td>0</td>\n",
              "      <td>0</td>\n",
              "      <td>4</td>\n",
              "      <td>1</td>\n",
              "      <td>0</td>\n",
              "      <td>0</td>\n",
              "      <td>1</td>\n",
              "      <td>0</td>\n",
              "      <td>0</td>\n",
              "    </tr>\n",
              "  </tbody>\n",
              "</table>\n",
              "</div>\n",
              "      <button class=\"colab-df-convert\" onclick=\"convertToInteractive('df-9f6c16a3-d23f-4eff-90ba-8f809c9d6c03')\"\n",
              "              title=\"Convert this dataframe to an interactive table.\"\n",
              "              style=\"display:none;\">\n",
              "        \n",
              "  <svg xmlns=\"http://www.w3.org/2000/svg\" height=\"24px\"viewBox=\"0 0 24 24\"\n",
              "       width=\"24px\">\n",
              "    <path d=\"M0 0h24v24H0V0z\" fill=\"none\"/>\n",
              "    <path d=\"M18.56 5.44l.94 2.06.94-2.06 2.06-.94-2.06-.94-.94-2.06-.94 2.06-2.06.94zm-11 1L8.5 8.5l.94-2.06 2.06-.94-2.06-.94L8.5 2.5l-.94 2.06-2.06.94zm10 10l.94 2.06.94-2.06 2.06-.94-2.06-.94-.94-2.06-.94 2.06-2.06.94z\"/><path d=\"M17.41 7.96l-1.37-1.37c-.4-.4-.92-.59-1.43-.59-.52 0-1.04.2-1.43.59L10.3 9.45l-7.72 7.72c-.78.78-.78 2.05 0 2.83L4 21.41c.39.39.9.59 1.41.59.51 0 1.02-.2 1.41-.59l7.78-7.78 2.81-2.81c.8-.78.8-2.07 0-2.86zM5.41 20L4 18.59l7.72-7.72 1.47 1.35L5.41 20z\"/>\n",
              "  </svg>\n",
              "      </button>\n",
              "      \n",
              "  <style>\n",
              "    .colab-df-container {\n",
              "      display:flex;\n",
              "      flex-wrap:wrap;\n",
              "      gap: 12px;\n",
              "    }\n",
              "\n",
              "    .colab-df-convert {\n",
              "      background-color: #E8F0FE;\n",
              "      border: none;\n",
              "      border-radius: 50%;\n",
              "      cursor: pointer;\n",
              "      display: none;\n",
              "      fill: #1967D2;\n",
              "      height: 32px;\n",
              "      padding: 0 0 0 0;\n",
              "      width: 32px;\n",
              "    }\n",
              "\n",
              "    .colab-df-convert:hover {\n",
              "      background-color: #E2EBFA;\n",
              "      box-shadow: 0px 1px 2px rgba(60, 64, 67, 0.3), 0px 1px 3px 1px rgba(60, 64, 67, 0.15);\n",
              "      fill: #174EA6;\n",
              "    }\n",
              "\n",
              "    [theme=dark] .colab-df-convert {\n",
              "      background-color: #3B4455;\n",
              "      fill: #D2E3FC;\n",
              "    }\n",
              "\n",
              "    [theme=dark] .colab-df-convert:hover {\n",
              "      background-color: #434B5C;\n",
              "      box-shadow: 0px 1px 3px 1px rgba(0, 0, 0, 0.15);\n",
              "      filter: drop-shadow(0px 1px 2px rgba(0, 0, 0, 0.3));\n",
              "      fill: #FFFFFF;\n",
              "    }\n",
              "  </style>\n",
              "\n",
              "      <script>\n",
              "        const buttonEl =\n",
              "          document.querySelector('#df-9f6c16a3-d23f-4eff-90ba-8f809c9d6c03 button.colab-df-convert');\n",
              "        buttonEl.style.display =\n",
              "          google.colab.kernel.accessAllowed ? 'block' : 'none';\n",
              "\n",
              "        async function convertToInteractive(key) {\n",
              "          const element = document.querySelector('#df-9f6c16a3-d23f-4eff-90ba-8f809c9d6c03');\n",
              "          const dataTable =\n",
              "            await google.colab.kernel.invokeFunction('convertToInteractive',\n",
              "                                                     [key], {});\n",
              "          if (!dataTable) return;\n",
              "\n",
              "          const docLinkHtml = 'Like what you see? Visit the ' +\n",
              "            '<a target=\"_blank\" href=https://colab.research.google.com/notebooks/data_table.ipynb>data table notebook</a>'\n",
              "            + ' to learn more about interactive tables.';\n",
              "          element.innerHTML = '';\n",
              "          dataTable['output_type'] = 'display_data';\n",
              "          await google.colab.output.renderOutput(dataTable, element);\n",
              "          const docLink = document.createElement('div');\n",
              "          docLink.innerHTML = docLinkHtml;\n",
              "          element.appendChild(docLink);\n",
              "        }\n",
              "      </script>\n",
              "    </div>\n",
              "  </div>\n",
              "  "
            ]
          },
          "metadata": {},
          "execution_count": 58
        }
      ],
      "source": [
        "temp_df = pd.get_dummies(temp_df, columns=[\"country\", \"card\"])\n",
        "temp_df.head()"
      ]
    },
    {
      "cell_type": "code",
      "execution_count": 26,
      "metadata": {
        "colab": {
          "base_uri": "https://localhost:8080/"
        },
        "id": "aDj62cs9fQ1y",
        "outputId": "25ad172c-8ce3-4477-b101-385e6ea523a5"
      },
      "outputs": [
        {
          "output_type": "execute_result",
          "data": {
            "text/plain": [
              "amount                  int64\n",
              "success                 int64\n",
              "PSP                    object\n",
              "3D_secured              int64\n",
              "attempt_number          int64\n",
              "hour                    int64\n",
              "minute                  int64\n",
              "country_Austria         uint8\n",
              "country_Germany         uint8\n",
              "country_Switzerland     uint8\n",
              "card_Diners             uint8\n",
              "card_Master             uint8\n",
              "card_Visa               uint8\n",
              "dtype: object"
            ]
          },
          "metadata": {},
          "execution_count": 26
        }
      ],
      "source": [
        "temp_df.dtypes"
      ]
    },
    {
      "cell_type": "code",
      "execution_count": 59,
      "metadata": {
        "id": "rdwuHJQ9cejD"
      },
      "outputs": [],
      "source": [
        "X = temp_df.drop(['PSP'], axis=1)\n",
        "y = temp_df['PSP']"
      ]
    },
    {
      "cell_type": "code",
      "execution_count": 28,
      "metadata": {
        "id": "Zku5PkkQX6p-"
      },
      "outputs": [],
      "source": [
        "# # Import necessary libraries\n",
        "# from sklearn.preprocessing import StandardScaler\n",
        "# from sklearn.metrics import confusion_matrix, classification_report\n",
        "# from sklearn.linear_model import LogisticRegression\n",
        "# from sklearn.tree import DecisionTreeClassifier\n",
        "# from sklearn.ensemble import RandomForestClassifier\n",
        "\n",
        "# # Split into training and testing sets\n",
        "# from sklearn.model_selection import train_test_split\n",
        "# X_train, X_test, y_train, y_test = train_test_split(X, y, test_size=0.2, random_state=42)\n",
        "\n",
        "# # Apply standard scaling to the training and testing sets\n",
        "# scaler = StandardScaler()\n",
        "# X_train = scaler.fit_transform(X_train)\n",
        "# X_test = scaler.transform(X_test)\n",
        "\n",
        "# # Train and evaluate Logistic Regression model\n",
        "# lr = LogisticRegression()\n",
        "# lr.fit(X_train, y_train)\n",
        "# y_pred_lr = lr.predict(X_test)\n",
        "# print(\"Logistic Regression\")\n",
        "# print(confusion_matrix(y_test, y_pred_lr))\n",
        "# print(classification_report(y_test, y_pred_lr))\n",
        "\n",
        "# # Train and evaluate Decision Tree model\n",
        "# dt = DecisionTreeClassifier()\n",
        "# dt.fit(X_train, y_train)\n",
        "# y_pred_dt = dt.predict(X_test)\n",
        "# print(\"Decision Tree\")\n",
        "# print(confusion_matrix(y_test, y_pred_dt))\n",
        "# print(classification_report(y_test, y_pred_dt))\n",
        "\n",
        "# # Train and evaluate Random Forest model\n",
        "# rf = RandomForestClassifier()\n",
        "# rf.fit(X_train, y_train)\n",
        "# y_pred_rf = rf.predict(X_test)\n",
        "# print(\"Random Forest\")\n",
        "# print(confusion_matrix(y_test, y_pred_rf))\n",
        "# print(classification_report(y_test, y_pred_rf))"
      ]
    },
    {
      "cell_type": "code",
      "source": [
        "from sklearn.model_selection import train_test_split\n",
        "X_train, X_test, y_train, y_test = train_test_split(X, y, test_size=0.2, random_state=42)"
      ],
      "metadata": {
        "id": "gl57hm7wE_Pe"
      },
      "execution_count": 60,
      "outputs": []
    },
    {
      "cell_type": "code",
      "source": [
        "import pandas as pd\n",
        "from sklearn.model_selection import train_test_split, GridSearchCV\n",
        "from sklearn.preprocessing import StandardScaler\n",
        "from sklearn.linear_model import LogisticRegression\n",
        "from sklearn.metrics import accuracy_score, precision_score, recall_score, f1_score, confusion_matrix\n",
        "\n",
        "\n",
        "# Data Preprocessing\n",
        "scaler = StandardScaler()\n",
        "X_train_scaled = scaler.fit_transform(X_train)\n",
        "X_test_scaled = scaler.transform(X_test)\n",
        "\n",
        "# Model initialization\n",
        "model = LogisticRegression(solver='liblinear')\n",
        "\n",
        "# Define hyperparameters for grid search\n",
        "param_grid = {'penalty': ['l1', 'l2'], 'C': [0.1, 1, 10]}\n",
        "\n",
        "# Perform grid search\n",
        "grid_search = GridSearchCV(model, param_grid, scoring='accuracy', cv=5)\n",
        "grid_search.fit(X_train_scaled, y_train)\n",
        "best_model = grid_search.best_estimator_\n",
        "\n",
        "# Evaluate the best model on the training set\n",
        "y_train_pred = best_model.predict(X_train_scaled)\n",
        "accuracy_train = accuracy_score(y_train, y_train_pred)\n",
        "precision_train = precision_score(y_train, y_train_pred, average='weighted')\n",
        "recall_train = recall_score(y_train, y_train_pred, average='weighted')\n",
        "f1_score_train = f1_score(y_train, y_train_pred, average='weighted')\n",
        "cm_train = confusion_matrix(y_train, y_train_pred)\n",
        "\n",
        "# Evaluate the best model on the testing set\n",
        "y_test_pred = best_model.predict(X_test_scaled)\n",
        "accuracy_test = accuracy_score(y_test, y_test_pred)\n",
        "precision_test = precision_score(y_test, y_test_pred, average='weighted')\n",
        "recall_test = recall_score(y_test, y_test_pred, average='weighted')\n",
        "f1_score_test = f1_score(y_test, y_test_pred, average='weighted')\n",
        "cm_test = confusion_matrix(y_test, y_test_pred)\n",
        "\n",
        "# Print evaluation metrics and confusion matrix for training set\n",
        "print(\"Training set:\")\n",
        "print(\"Accuracy:\", accuracy_train)\n",
        "print(\"Precision:\", precision_train)\n",
        "print(\"Recall:\", recall_train)\n",
        "print(\"F1 Score:\", f1_score_train)\n",
        "print(\"Confusion Matrix:\")\n",
        "print(cm_train)\n",
        "\n",
        "# Print evaluation metrics and confusion matrix for testing set\n",
        "print(\"Testing set:\")\n",
        "print(\"Accuracy:\", accuracy_test)\n",
        "print(\"Precision:\", precision_test)\n",
        "print(\"Recall:\", recall_test)\n",
        "print(\"F1 Score:\", f1_score_test)\n",
        "print(\"Confusion Matrix:\")\n",
        "print(cm_test)\n"
      ],
      "metadata": {
        "colab": {
          "base_uri": "https://localhost:8080/"
        },
        "id": "9y7q-gADDKD1",
        "outputId": "f52ac11d-b077-4e1b-cc45-a1ec12953061"
      },
      "execution_count": 69,
      "outputs": [
        {
          "output_type": "stream",
          "name": "stdout",
          "text": [
            "Training set:\n",
            "Accuracy: 0.525664550684388\n",
            "Precision: 0.27632321984621955\n",
            "Recall: 0.525664550684388\n",
            "F1 Score: 0.3622332572678122\n",
            "Confusion Matrix:\n",
            "[[    0     0     0  2586]\n",
            " [    0     0     0  6580]\n",
            " [    0     0     0  9963]\n",
            " [    0     0     0 21199]]\n",
            "Testing set:\n",
            "Accuracy: 0.5217218805792502\n",
            "Precision: 0.27219372067514935\n",
            "Recall: 0.5217218805792502\n",
            "F1 Score: 0.3577443738556714\n",
            "Confusion Matrix:\n",
            "[[   0    0    0  622]\n",
            " [   0    0    0 1717]\n",
            " [   0    0    0 2483]\n",
            " [   0    0    0 5260]]\n"
          ]
        },
        {
          "output_type": "stream",
          "name": "stderr",
          "text": [
            "/usr/local/lib/python3.10/dist-packages/sklearn/metrics/_classification.py:1344: UndefinedMetricWarning: Precision is ill-defined and being set to 0.0 in labels with no predicted samples. Use `zero_division` parameter to control this behavior.\n",
            "  _warn_prf(average, modifier, msg_start, len(result))\n",
            "/usr/local/lib/python3.10/dist-packages/sklearn/metrics/_classification.py:1344: UndefinedMetricWarning: Precision is ill-defined and being set to 0.0 in labels with no predicted samples. Use `zero_division` parameter to control this behavior.\n",
            "  _warn_prf(average, modifier, msg_start, len(result))\n"
          ]
        }
      ]
    },
    {
      "cell_type": "code",
      "source": [
        "import pandas as pd\n",
        "from sklearn.model_selection import train_test_split, GridSearchCV\n",
        "from sklearn.preprocessing import StandardScaler\n",
        "from sklearn.naive_bayes import GaussianNB\n",
        "from sklearn.metrics import accuracy_score, precision_score, recall_score, f1_score, confusion_matrix\n",
        "\n",
        "# Data Preprocessing\n",
        "scaler = StandardScaler()\n",
        "X_train_scaled = scaler.fit_transform(X_train)\n",
        "X_test_scaled = scaler.transform(X_test)\n",
        "\n",
        "# Model initialization\n",
        "model = GaussianNB()\n",
        "\n",
        "# Define hyperparameters for grid search\n",
        "param_grid = {}  # No hyperparameters for Gaussian Naive Bayes\n",
        "\n",
        "# Perform grid search\n",
        "grid_search = GridSearchCV(model, param_grid, scoring='f1', cv=5)\n",
        "grid_search.fit(X_train_scaled, y_train)\n",
        "best_model = grid_search.best_estimator_\n",
        "\n",
        "# Evaluate the best model on the training set\n",
        "y_train_pred = best_model.predict(X_train_scaled)\n",
        "accuracy_train = accuracy_score(y_train, y_train_pred)\n",
        "precision_train = precision_score(y_train, y_train_pred, average='weighted')\n",
        "recall_train = recall_score(y_train, y_train_pred, average='weighted')\n",
        "f1_score_train = f1_score(y_train, y_train_pred, average='weighted')\n",
        "cm_train = confusion_matrix(y_train, y_train_pred)\n",
        "\n",
        "# Evaluate the best model on the testing set\n",
        "y_test_pred = best_model.predict(X_test_scaled)\n",
        "accuracy_test = accuracy_score(y_test, y_test_pred)\n",
        "precision_test = precision_score(y_test, y_test_pred, average='weighted')\n",
        "recall_test = recall_score(y_test, y_test_pred, average='weighted')\n",
        "f1_score_test = f1_score(y_test, y_test_pred, average='weighted')\n",
        "cm_test = confusion_matrix(y_test, y_test_pred)\n",
        "\n",
        "# Print evaluation metrics and confusion matrix for training set\n",
        "print(\"Training set:\")\n",
        "print(\"Accuracy:\", accuracy_train)\n",
        "print(\"Precision:\", precision_train)\n",
        "print(\"Recall:\", recall_train)\n",
        "print(\"F1 Score:\", f1_score_train)\n",
        "print(\"Confusion Matrix:\")\n",
        "print(cm_train)\n",
        "\n",
        "# Print evaluation metrics and confusion matrix for testing set\n",
        "print(\"Testing set:\")\n",
        "print(\"Accuracy:\", accuracy_test)\n",
        "print(\"Precision:\", precision_test)\n",
        "print(\"Recall:\", recall_test)\n",
        "print(\"F1 Score:\", f1_score_test)\n",
        "print(\"Confusion Matrix:\")\n",
        "print(cm_test)"
      ],
      "metadata": {
        "colab": {
          "base_uri": "https://localhost:8080/"
        },
        "id": "5X6OrsPgEjOZ",
        "outputId": "9c12c8ac-a1b6-4ebb-e0db-95639c64918b"
      },
      "execution_count": 70,
      "outputs": [
        {
          "output_type": "stream",
          "name": "stderr",
          "text": [
            "/usr/local/lib/python3.10/dist-packages/ipykernel/ipkernel.py:283: DeprecationWarning: `should_run_async` will not call `transform_cell` automatically in the future. Please pass the result to `transformed_cell` argument and any exception that happen during thetransform in `preprocessing_exc_tuple` in IPython 7.17 and above.\n",
            "  and should_run_async(code)\n",
            "/usr/local/lib/python3.10/dist-packages/sklearn/model_selection/_validation.py:778: UserWarning: Scoring failed. The score on this train-test partition for these parameters will be set to nan. Details: \n",
            "Traceback (most recent call last):\n",
            "  File \"/usr/local/lib/python3.10/dist-packages/sklearn/model_selection/_validation.py\", line 767, in _score\n",
            "    scores = scorer(estimator, X_test, y_test)\n",
            "  File \"/usr/local/lib/python3.10/dist-packages/sklearn/metrics/_scorer.py\", line 234, in __call__\n",
            "    return self._score(\n",
            "  File \"/usr/local/lib/python3.10/dist-packages/sklearn/metrics/_scorer.py\", line 282, in _score\n",
            "    return self._sign * self._score_func(y_true, y_pred, **self._kwargs)\n",
            "  File \"/usr/local/lib/python3.10/dist-packages/sklearn/metrics/_classification.py\", line 1146, in f1_score\n",
            "    return fbeta_score(\n",
            "  File \"/usr/local/lib/python3.10/dist-packages/sklearn/metrics/_classification.py\", line 1287, in fbeta_score\n",
            "    _, _, f, _ = precision_recall_fscore_support(\n",
            "  File \"/usr/local/lib/python3.10/dist-packages/sklearn/metrics/_classification.py\", line 1573, in precision_recall_fscore_support\n",
            "    labels = _check_set_wise_labels(y_true, y_pred, average, labels, pos_label)\n",
            "  File \"/usr/local/lib/python3.10/dist-packages/sklearn/metrics/_classification.py\", line 1391, in _check_set_wise_labels\n",
            "    raise ValueError(\n",
            "ValueError: Target is multiclass but average='binary'. Please choose another average setting, one of [None, 'micro', 'macro', 'weighted'].\n",
            "\n",
            "  warnings.warn(\n",
            "/usr/local/lib/python3.10/dist-packages/sklearn/model_selection/_validation.py:778: UserWarning: Scoring failed. The score on this train-test partition for these parameters will be set to nan. Details: \n",
            "Traceback (most recent call last):\n",
            "  File \"/usr/local/lib/python3.10/dist-packages/sklearn/model_selection/_validation.py\", line 767, in _score\n",
            "    scores = scorer(estimator, X_test, y_test)\n",
            "  File \"/usr/local/lib/python3.10/dist-packages/sklearn/metrics/_scorer.py\", line 234, in __call__\n",
            "    return self._score(\n",
            "  File \"/usr/local/lib/python3.10/dist-packages/sklearn/metrics/_scorer.py\", line 282, in _score\n",
            "    return self._sign * self._score_func(y_true, y_pred, **self._kwargs)\n",
            "  File \"/usr/local/lib/python3.10/dist-packages/sklearn/metrics/_classification.py\", line 1146, in f1_score\n",
            "    return fbeta_score(\n",
            "  File \"/usr/local/lib/python3.10/dist-packages/sklearn/metrics/_classification.py\", line 1287, in fbeta_score\n",
            "    _, _, f, _ = precision_recall_fscore_support(\n",
            "  File \"/usr/local/lib/python3.10/dist-packages/sklearn/metrics/_classification.py\", line 1573, in precision_recall_fscore_support\n",
            "    labels = _check_set_wise_labels(y_true, y_pred, average, labels, pos_label)\n",
            "  File \"/usr/local/lib/python3.10/dist-packages/sklearn/metrics/_classification.py\", line 1391, in _check_set_wise_labels\n",
            "    raise ValueError(\n",
            "ValueError: Target is multiclass but average='binary'. Please choose another average setting, one of [None, 'micro', 'macro', 'weighted'].\n",
            "\n",
            "  warnings.warn(\n",
            "/usr/local/lib/python3.10/dist-packages/sklearn/model_selection/_validation.py:778: UserWarning: Scoring failed. The score on this train-test partition for these parameters will be set to nan. Details: \n",
            "Traceback (most recent call last):\n",
            "  File \"/usr/local/lib/python3.10/dist-packages/sklearn/model_selection/_validation.py\", line 767, in _score\n",
            "    scores = scorer(estimator, X_test, y_test)\n",
            "  File \"/usr/local/lib/python3.10/dist-packages/sklearn/metrics/_scorer.py\", line 234, in __call__\n",
            "    return self._score(\n",
            "  File \"/usr/local/lib/python3.10/dist-packages/sklearn/metrics/_scorer.py\", line 282, in _score\n",
            "    return self._sign * self._score_func(y_true, y_pred, **self._kwargs)\n",
            "  File \"/usr/local/lib/python3.10/dist-packages/sklearn/metrics/_classification.py\", line 1146, in f1_score\n",
            "    return fbeta_score(\n",
            "  File \"/usr/local/lib/python3.10/dist-packages/sklearn/metrics/_classification.py\", line 1287, in fbeta_score\n",
            "    _, _, f, _ = precision_recall_fscore_support(\n",
            "  File \"/usr/local/lib/python3.10/dist-packages/sklearn/metrics/_classification.py\", line 1573, in precision_recall_fscore_support\n",
            "    labels = _check_set_wise_labels(y_true, y_pred, average, labels, pos_label)\n",
            "  File \"/usr/local/lib/python3.10/dist-packages/sklearn/metrics/_classification.py\", line 1391, in _check_set_wise_labels\n",
            "    raise ValueError(\n",
            "ValueError: Target is multiclass but average='binary'. Please choose another average setting, one of [None, 'micro', 'macro', 'weighted'].\n",
            "\n",
            "  warnings.warn(\n",
            "/usr/local/lib/python3.10/dist-packages/sklearn/model_selection/_validation.py:778: UserWarning: Scoring failed. The score on this train-test partition for these parameters will be set to nan. Details: \n",
            "Traceback (most recent call last):\n",
            "  File \"/usr/local/lib/python3.10/dist-packages/sklearn/model_selection/_validation.py\", line 767, in _score\n",
            "    scores = scorer(estimator, X_test, y_test)\n",
            "  File \"/usr/local/lib/python3.10/dist-packages/sklearn/metrics/_scorer.py\", line 234, in __call__\n",
            "    return self._score(\n",
            "  File \"/usr/local/lib/python3.10/dist-packages/sklearn/metrics/_scorer.py\", line 282, in _score\n",
            "    return self._sign * self._score_func(y_true, y_pred, **self._kwargs)\n",
            "  File \"/usr/local/lib/python3.10/dist-packages/sklearn/metrics/_classification.py\", line 1146, in f1_score\n",
            "    return fbeta_score(\n",
            "  File \"/usr/local/lib/python3.10/dist-packages/sklearn/metrics/_classification.py\", line 1287, in fbeta_score\n",
            "    _, _, f, _ = precision_recall_fscore_support(\n",
            "  File \"/usr/local/lib/python3.10/dist-packages/sklearn/metrics/_classification.py\", line 1573, in precision_recall_fscore_support\n",
            "    labels = _check_set_wise_labels(y_true, y_pred, average, labels, pos_label)\n",
            "  File \"/usr/local/lib/python3.10/dist-packages/sklearn/metrics/_classification.py\", line 1391, in _check_set_wise_labels\n",
            "    raise ValueError(\n",
            "ValueError: Target is multiclass but average='binary'. Please choose another average setting, one of [None, 'micro', 'macro', 'weighted'].\n",
            "\n",
            "  warnings.warn(\n",
            "/usr/local/lib/python3.10/dist-packages/sklearn/model_selection/_validation.py:778: UserWarning: Scoring failed. The score on this train-test partition for these parameters will be set to nan. Details: \n",
            "Traceback (most recent call last):\n",
            "  File \"/usr/local/lib/python3.10/dist-packages/sklearn/model_selection/_validation.py\", line 767, in _score\n",
            "    scores = scorer(estimator, X_test, y_test)\n",
            "  File \"/usr/local/lib/python3.10/dist-packages/sklearn/metrics/_scorer.py\", line 234, in __call__\n",
            "    return self._score(\n",
            "  File \"/usr/local/lib/python3.10/dist-packages/sklearn/metrics/_scorer.py\", line 282, in _score\n",
            "    return self._sign * self._score_func(y_true, y_pred, **self._kwargs)\n",
            "  File \"/usr/local/lib/python3.10/dist-packages/sklearn/metrics/_classification.py\", line 1146, in f1_score\n",
            "    return fbeta_score(\n",
            "  File \"/usr/local/lib/python3.10/dist-packages/sklearn/metrics/_classification.py\", line 1287, in fbeta_score\n",
            "    _, _, f, _ = precision_recall_fscore_support(\n",
            "  File \"/usr/local/lib/python3.10/dist-packages/sklearn/metrics/_classification.py\", line 1573, in precision_recall_fscore_support\n",
            "    labels = _check_set_wise_labels(y_true, y_pred, average, labels, pos_label)\n",
            "  File \"/usr/local/lib/python3.10/dist-packages/sklearn/metrics/_classification.py\", line 1391, in _check_set_wise_labels\n",
            "    raise ValueError(\n",
            "ValueError: Target is multiclass but average='binary'. Please choose another average setting, one of [None, 'micro', 'macro', 'weighted'].\n",
            "\n",
            "  warnings.warn(\n",
            "/usr/local/lib/python3.10/dist-packages/sklearn/model_selection/_search.py:952: UserWarning: One or more of the test scores are non-finite: [nan]\n",
            "  warnings.warn(\n",
            "/usr/local/lib/python3.10/dist-packages/sklearn/metrics/_classification.py:1344: UndefinedMetricWarning: Precision is ill-defined and being set to 0.0 in labels with no predicted samples. Use `zero_division` parameter to control this behavior.\n",
            "  _warn_prf(average, modifier, msg_start, len(result))\n",
            "/usr/local/lib/python3.10/dist-packages/sklearn/metrics/_classification.py:1344: UndefinedMetricWarning: Precision is ill-defined and being set to 0.0 in labels with no predicted samples. Use `zero_division` parameter to control this behavior.\n",
            "  _warn_prf(average, modifier, msg_start, len(result))\n"
          ]
        },
        {
          "output_type": "stream",
          "name": "stdout",
          "text": [
            "Training set:\n",
            "Accuracy: 0.525664550684388\n",
            "Precision: 0.27632321984621955\n",
            "Recall: 0.525664550684388\n",
            "F1 Score: 0.3622332572678122\n",
            "Confusion Matrix:\n",
            "[[    0     0     0  2586]\n",
            " [    0     0     0  6580]\n",
            " [    0     0     0  9963]\n",
            " [    0     0     0 21199]]\n",
            "Testing set:\n",
            "Accuracy: 0.5217218805792502\n",
            "Precision: 0.27219372067514935\n",
            "Recall: 0.5217218805792502\n",
            "F1 Score: 0.3577443738556714\n",
            "Confusion Matrix:\n",
            "[[   0    0    0  622]\n",
            " [   0    0    0 1717]\n",
            " [   0    0    0 2483]\n",
            " [   0    0    0 5260]]\n"
          ]
        }
      ]
    },
    {
      "cell_type": "code",
      "source": [
        "import xgboost as xgb\n",
        "from sklearn.metrics import accuracy_score, precision_score, recall_score, f1_score, confusion_matrix\n",
        "\n",
        "# Create an XGBoost classifier\n",
        "clf = xgb.XGBClassifier()\n",
        "\n",
        "# Train the classifier\n",
        "clf.fit(X_train_scaled, y_train)\n",
        "\n",
        "# Predict the target variable for the training and testing sets\n",
        "y_train_pred = clf.predict(X_train_scaled)\n",
        "y_test_pred = clf.predict(X_test_scaled)\n",
        "\n",
        "# Compute evaluation metrics for the training set\n",
        "accuracy_train = accuracy_score(y_train, y_train_pred)\n",
        "precision_train = precision_score(y_train, y_train_pred, average='weighted')\n",
        "recall_train = recall_score(y_train, y_train_pred, average='weighted')\n",
        "f1_score_train = f1_score(y_train, y_train_pred, average='weighted')\n",
        "\n",
        "# Compute evaluation metrics for the testing set\n",
        "accuracy_test = accuracy_score(y_test, y_test_pred)\n",
        "precision_test = precision_score(y_test, y_test_pred, average='weighted')\n",
        "recall_test = recall_score(y_test, y_test_pred, average='weighted')\n",
        "f1_score_test = f1_score(y_test, y_test_pred, average='weighted')\n",
        "\n",
        "# Compute confusion matrix for the training and testing sets\n",
        "cm_train = confusion_matrix(y_train, y_train_pred)\n",
        "cm_test = confusion_matrix(y_test, y_test_pred)\n",
        "\n",
        "# Print evaluation metrics and confusion matrix\n",
        "print(\"Training set:\")\n",
        "print(\"Accuracy:\", accuracy_train)\n",
        "print(\"Precision:\", precision_train)\n",
        "print(\"Recall:\", recall_train)\n",
        "print(\"F1 Score:\", f1_score_train)\n",
        "print(\"Confusion Matrix:\")\n",
        "print(cm_train)\n",
        "print(\"\")\n",
        "\n",
        "print(\"Testing set:\")\n",
        "print(\"Accuracy:\", accuracy_test)\n",
        "print(\"Precision:\", precision_test)\n",
        "print(\"Recall:\", recall_test)\n",
        "print(\"F1 Score:\", f1_score_test)\n",
        "print(\"Confusion Matrix:\")\n",
        "print(cm_test)\n"
      ],
      "metadata": {
        "colab": {
          "base_uri": "https://localhost:8080/"
        },
        "id": "BtZJmMjAGzQs",
        "outputId": "fceead2d-dd24-4ca0-91db-750d4a346896"
      },
      "execution_count": 71,
      "outputs": [
        {
          "output_type": "stream",
          "name": "stderr",
          "text": [
            "<frozen importlib._bootstrap>:914: ImportWarning: APICoreClientInfoImportHook.find_spec() not found; falling back to find_module()\n",
            "<frozen importlib._bootstrap>:914: ImportWarning: _PyDriveImportHook.find_spec() not found; falling back to find_module()\n",
            "<frozen importlib._bootstrap>:914: ImportWarning: _OpenCVImportHook.find_spec() not found; falling back to find_module()\n",
            "<frozen importlib._bootstrap>:914: ImportWarning: _BokehImportHook.find_spec() not found; falling back to find_module()\n",
            "<frozen importlib._bootstrap>:914: ImportWarning: _AltairImportHook.find_spec() not found; falling back to find_module()\n"
          ]
        },
        {
          "output_type": "stream",
          "name": "stdout",
          "text": [
            "Training set:\n",
            "Accuracy: 0.5768200753818686\n",
            "Precision: 0.6666196693336597\n",
            "Recall: 0.5768200753818686\n",
            "F1 Score: 0.4746642895957468\n",
            "Confusion Matrix:\n",
            "[[  273    30   122  2161]\n",
            " [   19   596   205  5760]\n",
            " [   16    50  1437  8460]\n",
            " [   22    38   183 20956]]\n",
            "\n",
            "Testing set:\n",
            "Accuracy: 0.5099186669311645\n",
            "Precision: 0.38565110741300235\n",
            "Recall: 0.5099186669311645\n",
            "F1 Score: 0.37808432731742514\n",
            "Confusion Matrix:\n",
            "[[  10   11   49  552]\n",
            " [  11   24   68 1614]\n",
            " [  12   30  108 2333]\n",
            " [  17   52  192 4999]]\n"
          ]
        }
      ]
    },
    {
      "cell_type": "code",
      "source": [
        "from sklearn.tree import DecisionTreeClassifier\n",
        "from sklearn.metrics import accuracy_score, precision_score, recall_score, f1_score, confusion_matrix\n",
        "\n",
        "# Create a Decision Tree classifier\n",
        "clf = DecisionTreeClassifier()\n",
        "\n",
        "# Train the classifier\n",
        "clf.fit(X_train_scaled, y_train)\n",
        "\n",
        "# Predict the target variable for the training and testing sets\n",
        "y_train_pred = clf.predict(X_train_scaled)\n",
        "y_test_pred = clf.predict(X_test_scaled)\n",
        "\n",
        "# Compute evaluation metrics for the training set\n",
        "accuracy_train = accuracy_score(y_train, y_train_pred)\n",
        "precision_train = precision_score(y_train, y_train_pred, average='weighted')\n",
        "recall_train = recall_score(y_train, y_train_pred, average='weighted')\n",
        "f1_score_train = f1_score(y_train, y_train_pred, average='weighted')\n",
        "\n",
        "# Compute evaluation metrics for the testing set\n",
        "accuracy_test = accuracy_score(y_test, y_test_pred)\n",
        "precision_test = precision_score(y_test, y_test_pred, average='weighted')\n",
        "recall_test = recall_score(y_test, y_test_pred, average='weighted')\n",
        "f1_score_test = f1_score(y_test, y_test_pred, average='weighted')\n",
        "\n",
        "# Compute confusion matrix for the training and testing sets\n",
        "cm_train = confusion_matrix(y_train, y_train_pred)\n",
        "cm_test = confusion_matrix(y_test, y_test_pred)\n",
        "\n",
        "# Print evaluation metrics and confusion matrix\n",
        "print(\"Training set:\")\n",
        "print(\"Accuracy:\", accuracy_train)\n",
        "print(\"Precision:\", precision_train)\n",
        "print(\"Recall:\", recall_train)\n",
        "print(\"F1 Score:\", f1_score_train)\n",
        "print(\"Confusion Matrix:\")\n",
        "print(cm_train)\n",
        "print(\"\")\n",
        "\n",
        "print(\"Testing set:\")\n",
        "print(\"Accuracy:\", accuracy_test)\n",
        "print(\"Precision:\", precision_test)\n",
        "print(\"Recall:\", recall_test)\n",
        "print(\"F1 Score:\", f1_score_test)\n",
        "print(\"Confusion Matrix:\")\n",
        "print(cm_test)\n"
      ],
      "metadata": {
        "colab": {
          "base_uri": "https://localhost:8080/"
        },
        "id": "xCA5YYdiHVh8",
        "outputId": "cb48db8b-f12b-4066-f0ca-98458a9c89b3"
      },
      "execution_count": 67,
      "outputs": [
        {
          "output_type": "stream",
          "name": "stdout",
          "text": [
            "Training set:\n",
            "Accuracy: 0.9993056933148184\n",
            "Precision: 0.9993065141318708\n",
            "Recall: 0.9993056933148184\n",
            "F1 Score: 0.999305838587312\n",
            "Confusion Matrix:\n",
            "[[ 2586     0     0     0]\n",
            " [    2  6578     0     0]\n",
            " [    2     7  9954     0]\n",
            " [    2     5    10 21182]]\n",
            "\n",
            "Testing set:\n",
            "Accuracy: 0.3684784764927594\n",
            "Precision: 0.37507765729926235\n",
            "Recall: 0.36847847649275944\n",
            "F1 Score: 0.3716515542619545\n",
            "Confusion Matrix:\n",
            "[[  65  115  144  298]\n",
            " [ 135  328  434  820]\n",
            " [ 176  434  614 1259]\n",
            " [ 349  837 1366 2708]]\n"
          ]
        }
      ]
    },
    {
      "cell_type": "code",
      "source": [
        "from sklearn.ensemble import RandomForestClassifier\n",
        "from sklearn.metrics import accuracy_score, precision_score, recall_score, f1_score, confusion_matrix\n",
        "\n",
        "# Create a Random Forest classifier\n",
        "clf = RandomForestClassifier()\n",
        "\n",
        "# Train the classifier\n",
        "clf.fit(X_train_scaled, y_train)\n",
        "\n",
        "# Predict the target variable for the training and testing sets\n",
        "y_train_pred = clf.predict(X_train_scaled)\n",
        "y_test_pred = clf.predict(X_test_scaled)\n",
        "\n",
        "# Compute evaluation metrics for the training set\n",
        "accuracy_train = accuracy_score(y_train, y_train_pred)\n",
        "precision_train = precision_score(y_train, y_train_pred, average='weighted')\n",
        "recall_train = recall_score(y_train, y_train_pred, average='weighted')\n",
        "f1_score_train = f1_score(y_train, y_train_pred, average='weighted')\n",
        "\n",
        "# Compute evaluation metrics for the testing set\n",
        "accuracy_test = accuracy_score(y_test, y_test_pred)\n",
        "precision_test = precision_score(y_test, y_test_pred, average='weighted')\n",
        "recall_test = recall_score(y_test, y_test_pred, average='weighted')\n",
        "f1_score_test = f1_score(y_test, y_test_pred, average='weighted')\n",
        "\n",
        "# Compute confusion matrix for the training and testing sets\n",
        "cm_train = confusion_matrix(y_train, y_train_pred)\n",
        "cm_test = confusion_matrix(y_test, y_test_pred)\n",
        "\n",
        "# Print evaluation metrics and confusion matrix\n",
        "print(\"Training set:\")\n",
        "print(\"Accuracy:\", accuracy_train)\n",
        "print(\"Precision:\", precision_train)\n",
        "print(\"Recall:\", recall_train)\n",
        "print(\"F1 Score:\", f1_score_train)\n",
        "print(\"Confusion Matrix:\")\n",
        "print(cm_train)\n",
        "print(\"\")\n",
        "\n",
        "print(\"Testing set:\")\n",
        "print(\"Accuracy:\", accuracy_test)\n",
        "print(\"Precision:\", precision_test)\n",
        "print(\"Recall:\", recall_test)\n",
        "print(\"F1 Score:\", f1_score_test)\n",
        "print(\"Confusion Matrix:\")\n",
        "print(cm_test)\n"
      ],
      "metadata": {
        "colab": {
          "base_uri": "https://localhost:8080/"
        },
        "id": "2OpatRuAIlyX",
        "outputId": "0a4b972a-55df-4661-8de4-19689ec59a53"
      },
      "execution_count": 72,
      "outputs": [
        {
          "output_type": "stream",
          "name": "stdout",
          "text": [
            "Training set:\n",
            "Accuracy: 0.9992808966474905\n",
            "Precision: 0.9992809416804267\n",
            "Recall: 0.9992808966474905\n",
            "F1 Score: 0.9992808961108978\n",
            "Confusion Matrix:\n",
            "[[ 2583     1     1     1]\n",
            " [    1  6571     4     4]\n",
            " [    1     3  9955     4]\n",
            " [    2     1     6 21190]]\n",
            "\n",
            "Testing set:\n",
            "Accuracy: 0.4551676254711367\n",
            "Precision: 0.38734998484897176\n",
            "Recall: 0.4551676254711367\n",
            "F1 Score: 0.40515942468589483\n",
            "Confusion Matrix:\n",
            "[[  25   60  100  437]\n",
            " [  42  167  315 1193]\n",
            " [  46  201  448 1788]\n",
            " [  80  363  868 3949]]\n"
          ]
        }
      ]
    },
    {
      "cell_type": "code",
      "source": [
        "from sklearn.ensemble import GradientBoostingClassifier\n",
        "from sklearn.metrics import accuracy_score, precision_score, recall_score, f1_score, confusion_matrix\n",
        "\n",
        "# Create a Gradient Boosting classifier\n",
        "clf = GradientBoostingClassifier()\n",
        "\n",
        "# Train the classifier\n",
        "clf.fit(X_train_scaled, y_train)\n",
        "\n",
        "# Predict the target variable for the training and testing sets\n",
        "y_train_pred = clf.predict(X_train_scaled)\n",
        "y_test_pred = clf.predict(X_test_scaled)\n",
        "\n",
        "# Compute evaluation metrics for the training set\n",
        "accuracy_train = accuracy_score(y_train, y_train_pred)\n",
        "precision_train = precision_score(y_train, y_train_pred, average='weighted')\n",
        "recall_train = recall_score(y_train, y_train_pred, average='weighted')\n",
        "f1_score_train = f1_score(y_train, y_train_pred, average='weighted')\n",
        "\n",
        "# Compute evaluation metrics for the testing set\n",
        "accuracy_test = accuracy_score(y_test, y_test_pred)\n",
        "precision_test = precision_score(y_test, y_test_pred, average='weighted')\n",
        "recall_test = recall_score(y_test, y_test_pred, average='weighted')\n",
        "f1_score_test = f1_score(y_test, y_test_pred, average='weighted')\n",
        "\n",
        "# Compute confusion matrix for the training and testing sets\n",
        "cm_train = confusion_matrix(y_train, y_train_pred)\n",
        "cm_test = confusion_matrix(y_test, y_test_pred)\n",
        "\n",
        "# Print evaluation metrics and confusion matrix\n",
        "print(\"Training set:\")\n",
        "print(\"Accuracy:\", accuracy_train)\n",
        "print(\"Precision:\", precision_train)\n",
        "print(\"Recall:\", recall_train)\n",
        "print(\"F1 Score:\", f1_score_train)\n",
        "print(\"Confusion Matrix:\")\n",
        "print(cm_train)\n",
        "print(\"\")\n",
        "\n",
        "print(\"Testing set:\")\n",
        "print(\"Accuracy:\", accuracy_test)\n",
        "print(\"Precision:\", precision_test)\n",
        "print(\"Recall:\", recall_test)\n",
        "print(\"F1 Score:\", f1_score_test)\n",
        "print(\"Confusion Matrix:\")\n",
        "print(cm_test)\n"
      ],
      "metadata": {
        "colab": {
          "base_uri": "https://localhost:8080/"
        },
        "id": "4up8b7YpJxlr",
        "outputId": "e195446a-4e97-45a3-f306-40ce86c0e573"
      },
      "execution_count": 73,
      "outputs": [
        {
          "output_type": "stream",
          "name": "stdout",
          "text": [
            "Training set:\n",
            "Accuracy: 0.5288881174370165\n",
            "Precision: 0.5517222148642896\n",
            "Recall: 0.5288881174370165\n",
            "F1 Score: 0.37274313063836456\n",
            "Confusion Matrix:\n",
            "[[   14     7    39  2526]\n",
            " [    3    41    57  6479]\n",
            " [    1     8   139  9815]\n",
            " [    0     7    57 21135]]\n",
            "\n",
            "Testing set:\n",
            "Accuracy: 0.5212259472326919\n",
            "Precision: 0.38990944537207756\n",
            "Recall: 0.5212259472326919\n",
            "F1 Score: 0.36198620456379177\n",
            "Confusion Matrix:\n",
            "[[   0    1   17  604]\n",
            " [   2    4   13 1698]\n",
            " [   0    3   17 2463]\n",
            " [   3    5   18 5234]]\n"
          ]
        }
      ]
    },
    {
      "cell_type": "code",
      "execution_count": null,
      "metadata": {
        "id": "4sBzO24JgPQ8"
      },
      "outputs": [],
      "source": []
    },
    {
      "cell_type": "code",
      "execution_count": null,
      "metadata": {
        "id": "efqwbly1CQXW"
      },
      "outputs": [],
      "source": []
    }
  ],
  "metadata": {
    "accelerator": "GPU",
    "colab": {
      "provenance": [],
      "gpuType": "T4"
    },
    "gpuClass": "standard",
    "kernelspec": {
      "display_name": "Python 3",
      "name": "python3"
    },
    "language_info": {
      "name": "python"
    }
  },
  "nbformat": 4,
  "nbformat_minor": 0
}